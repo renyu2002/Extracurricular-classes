{
 "cells": [
  {
   "cell_type": "markdown",
   "metadata": {},
   "source": [
    "# 解析算法：用数学魔法解决生活问题\n",
    "\n",
    "今天我们要学习一种非常强大的工具——解析算法！它就像一把钥匙，可以帮助我们打开解决各种问题的大门。\n",
    "\n",
    "**学习目标：**\n",
    "1. 理解什么是解析算法\n",
    "2. 学会用解析算法解决简单的实际问题\n",
    "3. 掌握Python中基本的数学表达式计算"
   ],
   "id": "d1af20594ee919a3"
  },
  {
   "cell_type": "markdown",
   "metadata": {},
   "source": [
    "## 什么是解析算法？\n",
    "\n",
    "解析算法就是利用数学公式或规则，一步一步地解决问题的方法。就像做数学应用题一样，我们通过分析问题，找到合适的公式，然后代入数据计算出答案。\n",
    "\n",
    "**解析算法的特点：**\n",
    "- 有明确的计算公式\n",
    "- 每一步都很清楚\n",
    "- 只要公式正确，结果一定正确"
   ],
   "id": "679a5046352481ca"
  },
  {
   "cell_type": "markdown",
   "metadata": {},
   "source": [
    "## 生活中的解析算法例子\n",
    "\n",
    "### 例子1：计算购物折扣\n",
    "假设你在商店看到一件衣服原价100元，现在打8折，你需要付多少钱？\n",
    "\n",
    "**解题步骤：**\n",
    "1. 理解折扣的含义：8折就是原价的80%\n",
    "2. 写出计算公式：折后价格 = 原价 × 折扣率\n",
    "3. 代入数据计算：100 × 0.8 = 80元\n",
    "\n",
    "### 例子2：计算旅行时间\n",
    "如果你以每小时60公里的速度开车，行驶120公里需要多长时间？\n",
    "\n",
    "**解题步骤：**\n",
    "1. 回忆速度、时间和路程的关系：时间 = 路程 ÷ 速度\n",
    "2. 代入数据计算：120 ÷ 60 = 2小时"
   ],
   "id": "a469bf2ca6448974"
  },
  {
   "metadata": {},
   "cell_type": "markdown",
   "source": [
    "### 使用Python实现解析算法\n",
    "\n",
    "在Python中，我们可以直接用代码实现这些计算。让我们看看如何用Python解决上面的两个例子：\n",
    "\n",
    "```python"
   ],
   "id": "d4f07fc24d0b6a63"
  },
  {
   "metadata": {},
   "cell_type": "code",
   "execution_count": null,
   "source": [
    "# 例1：计算购物折扣\n",
    "original_price = 100\n",
    "discount_rate = 0.8\n",
    "final_price = original_price * discount_rate\n",
    "\n",
    "print(f\"原价: {original_price}元\")\n",
    "print(f\"折扣率: {discount_rate * 100}%\")\n",
    "print(f\"折后价格: {final_price}元\")\n",
    "\n",
    "# 例2：计算旅行时间\n",
    "distance = 120  # 公里\n",
    "speed = 60      # 公里/小时\n",
    "time = distance / speed\n",
    "\n",
    "print(f\"路程: {distance}公里\")\n",
    "print(f\"速度: {speed}公里/小时\")\n",
    "print(f\"所需时间: {time}小时\")"
   ],
   "id": "e420833f4df2bcd3",
   "outputs": []
  },
  {
   "metadata": {},
   "cell_type": "markdown",
   "source": [
    "```\n",
    "\n",
    "**动手试一试：**\n",
    "修改上面的代码，计算一件原价250元的商品打75折后的价格，以及以80公里/小时的速度行驶320公里需要的时间。"
   ],
   "id": "2b5d594c85481368"
  },
  {
   "cell_type": "markdown",
   "metadata": {},
   "source": [
    "## 解析算法解决实际问题的步骤\n",
    "\n",
    "1. **理解问题**：明确已知条件和需要求解的问题\n",
    "2. **寻找公式**：确定解决问题所需的数学公式或规则\n",
    "3. **设计算法**：将公式转换为一步步的计算步骤\n",
    "4. **编写代码**：用Python实现算法\n",
    "5. **验证结果**：检查计算结果是否合理"
   ],
   "id": "4c0b96f63f33851a"
  },
  {
   "metadata": {},
   "cell_type": "markdown",
   "source": [
    "## 挑战：计算BMI指数\n",
    "\n",
    "BMI（身体质量指数）是衡量人体胖瘦程度的一个常用指标，计算公式为：\n",
    "\n",
    "$$BMI = \\frac{体重(kg)}{身高(m)^2}$$\n",
    "\n",
    "**任务：**\n",
    "编写一个Python程序，输入你的体重和身高，计算并输出BMI指数，同时根据以下标准判断体重状态：\n",
    "- BMI < 18.5：体重过轻\n",
    "- 18.5 ≤ BMI < 24：正常范围\n",
    "- 24 ≤ BMI < 28：超重\n",
    "- BMI ≥ 28：肥胖\n",
    "\n",
    "**提示：**\n",
    "1. 使用`input()`函数获取用户输入\n",
    "2. 将输入的字符串转换为数字类型\n",
    "3. 使用条件语句判断体重状态\n",
    "\n",
    "```python"
   ],
   "id": "e59ea52012bb0680"
  },
  {
   "metadata": {},
   "cell_type": "code",
   "outputs": [],
   "execution_count": null,
   "source": [
    "# 请在此编写你的代码\n",
    "# 获取用户输入\n",
    "weight = float(input(\"请输入你的体重(kg): \"))\n",
    "height = float(input(\"请输入你的身高(m): \"))\n",
    "\n",
    "# 计算BMI\n",
    "bmi = weight / (height ** 2)\n",
    "\n",
    "# 判断体重状态\n",
    "if bmi < 18.5:\n",
    "    status = \"体重过轻\"\n",
    "elif bmi < 24:\n",
    "    status = \"正常范围\"\n",
    "elif bmi < 28:\n",
    "    status = \"超重\"\n",
    "else:\n",
    "    status = \"肥胖\"\n",
    "\n",
    "# 输出结果\n",
    "print(f\"你的BMI指数是: {bmi:.2f}\")\n",
    "print(f\"你的体重状态是: {status}\")"
   ],
   "id": "6992f5434fef32a4"
  },
  {
   "cell_type": "markdown",
   "metadata": {},
   "source": [
    "## 解析算法的优缺点\n",
    "\n",
    "### 优点：\n",
    "- **精确**：只要公式正确，结果一定准确\n",
    "- **高效**：通常计算步骤较少\n",
    "- **易懂**：逻辑清晰，容易理解和实现\n",
    "\n",
    "### 缺点：\n",
    "- **适用范围有限**：只能解决有明确公式的问题\n",
    "- **对复杂问题无力**：对于没有公式或公式复杂的问题不适用"
   ],
   "id": "25f79f21f0101d3c"
  },
  {
   "cell_type": "markdown",
   "metadata": {},
   "source": [
    "## 总结\n",
    "\n",
    "今天我们学习了：\n",
    "- 解析算法是利用数学公式解决问题的方法\n",
    "- 解析算法的步骤：理解问题、寻找公式、设计算法、编写代码、验证结果\n",
    "- 如何用Python实现解析算法\n",
    "- 解析算法的优缺点\n",
    "\n",
    "解析算法是编程中最基础也是最重要的算法之一，希望大家课后多练习，掌握这种解决问题的方法！"
   ],
   "id": "9ce47bb46896b3e1"
  },
  {
   "cell_type": "markdown",
   "metadata": {},
   "source": [
    "## 课后作业\n",
    "\n",
    "1. 一个圆柱形容器的底面半径是5厘米，高是10厘米，计算它的体积。\n",
    "   (提示：圆柱体积公式 V = πr²h，π取3.14)\n",
    "\n",
    "2. 小明骑自行车去学校，去时速度是15公里/小时，回来时速度是10公里/小时，求他往返的平均速度。\n",
    "   (注意：平均速度 ≠ (去时速度 + 回时速度) / 2)\n",
    "\n",
    "3. 设计一个程序，输入三角形的底和高，计算并输出三角形的面积。\n",
    "\n",
    "请将你的解答写在下面的代码单元格中："
   ],
   "id": "ae56cc8b7de9f110"
  },
  {
   "cell_type": "code",
   "execution_count": null,
   "metadata": {},
   "outputs": [],
   "source": [
    "# 作业解答区域\n",
    "# 请在这里写下你的答案\n",
    "\n",
    "# 1. 圆柱体积计算\n",
    "r = 5\n",
    "h = 10\n",
    "pi = 3.14\n",
    "volume = pi * r ** 2 * h\n",
    "print(f\"圆柱体积: {volume}立方厘米\")\n",
    "\n",
    "# 2. 平均速度计算\n",
    "# 设距离为s，去时时间t1 = s/15，回来时间t2 = s/10\n",
    "# 平均速度 = 总路程 / 总时间 = 2s / (t1 + t2) = 2 / (1/15 + 1/10) = 12\n",
    "avg_speed = 2 / (1/15 + 1/10)\n",
    "print(f\"往返平均速度: {avg_speed}公里/小时\")\n",
    "\n",
    "# 3. 三角形面积计算\n",
    "base = float(input(\"请输入三角形的底: \"))\n",
    "height = float(input(\"请输入三角形的高: \"))\n",
    "area = 0.5 * base * height\n",
    "print(f\"三角形面积: {area}\")"
   ],
   "id": "38d5ab70dd3a3c39"
  }
 ],
 "metadata": {
  "kernelspec": {
   "display_name": "Python 3",
   "language": "python",
   "name": "python3"
  },
  "language_info": {
   "codemirror_mode": {
    "name": "ipython",
    "version": 3
   },
   "file_extension": ".py",
   "mimetype": "text/x-python",
   "name": "python",
   "nbconvert_exporter": "python",
   "pygments_lexer": "ipython3",
   "version": "3.8.5"
  }
 },
 "nbformat": 4,
 "nbformat_minor": 5
}
