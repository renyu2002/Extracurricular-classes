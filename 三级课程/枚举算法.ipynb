{
 "cells": [
  {
   "metadata": {},
   "cell_type": "markdown",
   "source": [
    "## 什么是枚举算法？\n",
    "\n",
    "枚举算法是一种基本的问题解决策略，它的核心思想是：\n",
    "\n",
    "**一一列举所有可能的情况，然后逐一检查这些情况是否符合问题的要求。**\n",
    "\n",
    "你可以把枚举算法想象成在一个大箱子里找东西，你需要一件一件地拿出来看，直到找到你需要的东西为止。"
   ],
   "id": "7bec22ebc8c89dcb"
  },
  {
   "cell_type": "markdown",
   "metadata": {},
   "source": [
    "## 枚举算法的执行流程\n",
    "\n",
    "枚举算法通常包含以下几个步骤：\n",
    "\n",
    "1. **确定范围**：明确所有可能的候选解\n",
    "2. **逐一验证**：对每个候选解进行检查\n",
    "3. **判断条件**：验证是否满足问题的要求\n",
    "4. **得出结论**：找到符合条件的解或确定无解\n",
    "\n",
    "让我们通过一个简单的例子来理解这个流程。"
   ],
   "id": "17658bd5bac567a3"
  },
  {
   "cell_type": "markdown",
   "metadata": {},
   "source": [
    "## 示例1：寻找数字密码\n",
    "\n",
    "假设我们有一个3位数的密码锁，密码是由数字1-5组成的，你能找到正确的密码吗？\n",
    "\n",
    "让我们用枚举算法来解决这个问题。"
   ],
   "id": "6f1fbb96b1252c"
  },
  {
   "cell_type": "code",
   "execution_count": null,
   "metadata": {},
   "outputs": [],
   "source": [
    "# 假设正确密码是 3, 4, 1\n",
    "correct_password = [3, 4, 1]\n",
    "\n",
    "# 枚举所有可能的3位数密码 (1-5)\n",
    "found = False\n",
    "\n",
    "# 使用三重循环枚举所有可能的组合\n",
    "for i in range(1, 6):\n",
    "    for j in range(1, 6):\n",
    "        for k in range(1, 6):\n",
    "            # 检查当前组合是否是正确密码\n",
    "            if [i, j, k] == correct_password:\n",
    "                print(f\"找到密码了！正确密码是: {i}, {j}, {k}\")\n",
    "                found = True\n",
    "                break  # 找到后可以提前结束内层循环\n",
    "        if found:\n",
    "            break  # 提前结束中间层循环\n",
    "    if found:\n",
    "        break  # 提前结束最外层循环\n",
    "\n",
    "# 如果没有找到，输出提示\n",
    "if not found:\n",
    "    print(\"没有找到正确密码。\")"
   ],
   "id": "671a18233463d0af"
  },
  {
   "cell_type": "markdown",
   "metadata": {},
   "source": [
    "### 代码解释\n",
    "\n",
    "这个程序是如何工作的呢？\n",
    "\n",
    "1. **确定范围**：每个密码位可以是1-5，总共有5×5×5=125种可能\n",
    "2. **逐一验证**：使用三重循环遍历所有可能的组合\n",
    "3. **判断条件**：检查当前组合是否等于正确密码\n",
    "4. **得出结论**：找到密码后输出结果并结束程序\n",
    "\n",
    "我们可以通过调整密码和范围来测试不同的情况。"
   ],
   "id": "e0d6b938779cd718"
  },
  {
   "cell_type": "code",
   "execution_count": null,
   "metadata": {},
   "outputs": [],
   "source": [
    "# 你可以修改下面的代码，尝试不同的密码和范围\n",
    "# 例如，设置正确密码为 [5, 5, 5] 并将范围扩大到1-6\n",
    "\n",
    "correct_password = [5, 5, 5]\n",
    "range_max = 6\n",
    "\n",
    "found = False\n",
    "\n",
    "for i in range(1, range_max + 1):\n",
    "    for j in range(1, range_max + 1):\n",
    "        for k in range(1, range_max + 1):\n",
    "            if [i, j, k] == correct_password:\n",
    "                print(f\"找到密码了！正确密码是: {i}, {j}, {k}\")\n",
    "                found = True\n",
    "                break\n",
    "        if found:\n",
    "            break\n",
    "    if found:\n",
    "        break\n",
    "\n",
    "if not found:\n",
    "    print(\"没有找到正确密码。\")"
   ],
   "id": "597d671796f0953f"
  },
  {
   "cell_type": "markdown",
   "metadata": {},
   "source": [
    "## 示例2：寻找最大公约数\n",
    "\n",
    "枚举算法不仅可以用于寻找特定的解，还可以用于优化问题。让我们看一个寻找两个数的最大公约数(GCD)的例子。"
   ],
   "id": "eb5e11aa9bc351a2"
  },
  {
   "cell_type": "code",
   "execution_count": null,
   "metadata": {},
   "outputs": [],
   "source": [
    "# 寻找两个数的最大公约数\n",
    "a = 24\n",
    "b = 36\n",
    "\n",
    "# 确定可能的最大公约数范围：从1到两个数中的较小值\n",
    "max_possible_gcd = min(a, b)\n",
    "gcd = 1  # 初始化最大公约数\n",
    "\n",
    "# 枚举所有可能的公约数\n",
    "for i in range(1, max_possible_gcd + 1):\n",
    "    if a % i == 0 and b % i == 0:\n",
    "        # 如果i是a和b的公约数，则更新最大公约数\n",
    "        gcd = i\n",
    "\n",
    "print(f\"{a}和{b}的最大公约数是: {gcd}\")"
   ],
   "id": "5d363e73183de465"
  },
  {
   "cell_type": "markdown",
   "metadata": {},
   "source": [
    "### 优化思路\n",
    "\n",
    "在上面的例子中，我们枚举了所有可能的公约数，但实际上可以更高效地找到最大公约数。\n",
    "\n",
    "**练习**: 你能修改上面的代码，使其在找到最大公约数后立即停止枚举吗？"
   ],
   "id": "76cbbf52280dc6ff"
  },
  {
   "cell_type": "markdown",
   "metadata": {},
   "source": [
    "## 枚举算法的优缺点\n",
    "\n",
    "### 优点\n",
    "- **简单直接**：不需要复杂的数学知识或算法设计\n",
    "- **可靠性高**：只要枚举范围正确，总能找到解\n",
    "- **适用性广**：可以解决很多类型的问题\n",
    "\n",
    "### 缺点\n",
    "- **效率低**：当枚举范围很大时，计算量会非常大\n",
    "- **不适合复杂问题**：对于复杂问题，枚举所有可能解是不现实的"
   ],
   "id": "50cf1788470660a2"
  },
  {
   "cell_type": "markdown",
   "metadata": {},
   "source": [
    "## 实际应用场景\n",
    "\n",
    "枚举算法在生活中有很多实际应用，例如：\n",
    "\n",
    "- **密码破解**：尝试所有可能的密码组合\n",
    "- **排课系统**：寻找最优的课程安排方案\n",
    "- **旅行规划**：计算所有可能的旅行路线\n",
    "- **游戏AI**：评估所有可能的游戏步骤\n",
    "\n",
    "虽然枚举算法在处理大规模问题时效率不高，但它是理解算法思维的基础，也是学习更高级算法的起点。"
   ],
   "id": "318926c3c4c035c"
  },
  {
   "cell_type": "markdown",
   "metadata": {},
   "source": [
    "## 练习题\n",
    "\n",
    "### 1. 寻找完美数\n",
    "完美数是指一个数等于它的所有真因子（即除了自身以外的约数）之和。例如，6是一个完美数，因为6=1+2+3。\n",
    "\n",
    "编写一个程序，使用枚举算法找出1-1000之间的所有完美数。"
   ],
   "id": "88cfbd6dc86beaa8"
  },
  {
   "metadata": {},
   "cell_type": "code",
   "outputs": [],
   "execution_count": null,
   "source": [
    "# 遍历1到1000之间的所有数字\n",
    "for num in range(1, 1001):\n",
    "    # 初始化真因子之和\n",
    "    sum_factors = 0\n",
    "\n",
    "    # 枚举所有可能的真因子（从1到num-1）\n",
    "    for i in range(1, num):\n",
    "        if num % i == 0:  # 如果i是num的因子\n",
    "            sum_factors += i  # 累加到真因子和中\n",
    "\n",
    "    # 判断是否为完美数\n",
    "    if sum_factors == num:\n",
    "        print(f\"{num} 是完美数，因为它的真因子和为 {sum_factors}\")"
   ],
   "id": "591e809703813995"
  },
  {
   "metadata": {},
   "cell_type": "markdown",
   "source": [
    "\n",
    "### 2. 鸡兔同笼问题\n",
    "一个笼子里有鸡和兔子，总共有35个头，94只脚。问鸡和兔子各有多少只？\n",
    "\n",
    "编写一个程序，使用枚举算法解决这个问题。"
   ],
   "id": "97dcd50fd60751f0"
  },
  {
   "metadata": {},
   "cell_type": "code",
   "outputs": [],
   "execution_count": null,
   "source": [
    "# 已知条件\n",
    "total_heads = 35\n",
    "total_legs = 94\n",
    "\n",
    "# 枚举所有可能的鸡的数量（从0到总头数）\n",
    "for chicken in range(0, total_heads + 1):\n",
    "    # 计算兔子的数量\n",
    "    rabbit = total_heads - chicken\n",
    "\n",
    "    # 计算当前组合的总腿数\n",
    "    current_legs = chicken * 2 + rabbit * 4\n",
    "\n",
    "    # 判断是否符合总腿数条件\n",
    "    if current_legs == total_legs:\n",
    "        print(f\"答案：鸡有{chicken}只，兔子有{rabbit}只\")\n",
    "        print(f\"验证：头的数量 = {chicken + rabbit}，腿的数量 = {chicken*2 + rabbit*4}\")\n",
    "        break  # 找到答案后提前退出循环\n",
    "else:\n",
    "    print(\"没有找到符合条件的解\")"
   ],
   "id": "7451119899f59957"
  },
  {
   "metadata": {},
   "cell_type": "markdown",
   "source": [
    "\n",
    "### 3. 优化问题\n",
    "修改寻找最大公约数的代码，使其在找到最大公约数后立即停止枚举，提高效率。"
   ],
   "id": "d48c77ddced4db67"
  },
  {
   "metadata": {},
   "cell_type": "code",
   "outputs": [],
   "execution_count": null,
   "source": [
    "a = 24\n",
    "b = 36\n",
    "\n",
    "# 从可能的最大公约数开始，反向枚举到1\n",
    "for i in range(min(a, b), 0, -1):\n",
    "    if a % i == 0 and b % i == 0:\n",
    "        print(f\"{a}和{b}的最大公约数是: {i}\")\n",
    "        break  # 找到最大公约数后立即退出循环\n",
    "else:\n",
    "    print(\"没有找到公约数（这是不可能的）\")"
   ],
   "id": "15007db995ca2e58"
  },
  {
   "cell_type": "markdown",
   "metadata": {},
   "source": [
    "## 总结\n",
    "\n",
    "通过今天的学习，我们了解了枚举算法的基本概念和执行流程，并且通过几个例子展示了如何应用枚举算法解决实际问题。\n",
    "\n",
    "枚举算法是算法思维的基础，虽然它简单直接，但在处理大规模问题时效率较低。在后续的学习中，我们将探索更高效的算法来解决复杂问题。\n",
    "\n",
    "希望大家通过今天的学习，对算法有了更深入的理解！"
   ],
   "id": "b994a93351e015f9"
  }
 ],
 "metadata": {
  "kernelspec": {
   "display_name": "Python 3",
   "language": "python",
   "name": "python3"
  },
  "language_info": {
   "codemirror_mode": {
    "name": "ipython",
    "version": 3
   },
   "file_extension": ".py",
   "mimetype": "text/x-python",
   "name": "python",
   "nbconvert_exporter": "python",
   "pygments_lexer": "ipython3",
   "version": "3.10.0"
  }
 },
 "nbformat": 4,
 "nbformat_minor": 2
}
