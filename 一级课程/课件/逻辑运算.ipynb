{
  "cells": [
    {
      "cell_type": "markdown",
      "metadata": {},
      "source": [
        "# 欢迎学习Python条件判断！\n",
        "\n",
        "今天我们将学习逻辑运算符、if条件语句及其实例练习。\n",
        "\n",
        "让我们开始吧！"
      ]
    },
    {
      "cell_type": "markdown",
      "metadata": {},
      "source": [
        "## 1. 逻辑运算符\n",
        "\n",
        "逻辑运算符用于组合多个条件，返回布尔值（True或False）。\n",
        "\n",
        "### 常见的逻辑运算符：\n",
        "- **and**：逻辑与，两边条件都为True时结果为True\n",
        "- **or**：逻辑或，两边条件任一为True时结果为True\n",
        "- **not**：逻辑非，反转条件的结果\n",
        "\n",
        "让我们看一些例子："
      ]
    },
    {
      "cell_type": "code",
      "execution_count": null,
      "metadata": {},
      "outputs": [],
      "source": [
        "# and运算符\n",
        "print(True and True)    # True\n",
        "print(True and False)   # False\n",
        "print(False and False)  # False\n",
        "\n",
        "# or运算符\n",
        "print(True or True)     # True\n",
        "print(True or False)    # True\n",
        "print(False or False)   # False\n",
        "\n",
        "# not运算符\n",
        "print(not True)         # False\n",
        "print(not False)        # True\n",
        "\n",
        "# 结合关系运算符\n",
        "x = 5\n",
        "print(x > 0 and x < 10)  # True\n",
        "print(x < 0 or x > 3)    # True\n",
        "print(not x == 10)       # True"
      ]
    },
    {
      "cell_type": "markdown",
      "metadata": {},
      "source": [
        "### 试一试！\n",
        "\n",
        "在下面的代码单元格中，使用逻辑运算符判断一个数字是否在10到20之间（包括10和20）。"
      ]
    },
    {
      "cell_type": "code",
      "execution_count": null,
      "metadata": {},
      "outputs": [],
      "source": [
        "number = 15\n",
        "print(\"数字是否在10到20之间：\", number >= 10 and number <= 20)"
      ]
    },
    {
      "cell_type": "markdown",
      "metadata": {},
      "source": [
        "## 2. if条件语句\n",
        "\n",
        "`if`条件语句用于根据条件的真假来执行不同的代码块。\n",
        "\n",
        "### 基本语法：\n",
        "```python\n",
        "if 条件:\n",
        "    # 条件为True时执行的代码\n",
        "else:\n",
        "    # 条件为False时执行的代码\n",
        "```\n",
        "\n",
        "### 多重条件语法：\n",
        "```python\n",
        "if 条件1:\n",
        "    # 条件1为True时执行的代码\n",
        "elif 条件2:\n",
        "    # 条件2为True时执行的代码\n",
        "else:\n",
        "    # 所有条件都为False时执行的代码\n",
        "```\n",
        "\n",
        "让我们看一些例子："
      ]
    },
    {
      "cell_type": "code",
      "execution_count": null,
      "metadata": {},
      "outputs": [],
      "source": [
        "# 简单的if-else语句\n",
        "age = 15\n",
        "\n",
        "if age >= 18:\n",
        "    print(\"你已经成年了！\")\n",
        "else:\n",
        "    print(\"你还未成年！\")\n",
        "\n",
        "# 多重条件语句\n",
        "score = 85\n",
        "\n",
        "if score >= 90:\n",
        "    print(\"优秀\")\n",
        "elif score >= 80:\n",
        "    print(\"良好\")\n",
        "elif score >= 60:\n",
        "    print(\"及格\")\n",
        "else:\n",
        "    print(\"不及格\")"
      ]
    },
    {
      "cell_type": "markdown",
      "metadata": {},
      "source": [
        "### 思考一下！\n",
        "\n",
        "下面的代码会输出什么？先自己想一想，然后在代码单元格中运行看看。\n",
        "\n",
        "```python\n",
        "x = 5\n",
        "if x > 3:\n",
        "    print(\"A\")\n",
        "if x < 10:\n",
        "    print(\"B\")\n",
        "else:\n",
        "    print(\"C\")\n",
        "```"
      ]
    },
    {
      "cell_type": "code",
      "execution_count": null,
      "metadata": {},
      "outputs": [],
      "source": [
        "# 运行这段代码，看看输出结果\n",
        "x = 5\n",
        "if x > 3:\n",
        "    print(\"A\")\n",
        "if x < 10:\n",
        "    print(\"B\")\n",
        "else:\n",
        "    print(\"C\")"
      ]
    },
    {
      "cell_type": "markdown",
      "metadata": {},
      "source": [
        "## 3. 实例练习\n",
        "\n",
        "### 练习1：判断奇偶数\n",
        "编写一个程序，判断用户输入的数字是奇数还是偶数。"
      ]
    },
    {
      "cell_type": "code",
      "execution_count": null,
      "metadata": {},
      "outputs": [],
      "source": [
        "# 获取用户输入\n",
        "number = int(input(\"请输入一个整数：\"))\n",
        "\n",
        "# 判断奇偶数\n",
        "if number % 2 == 0:\n",
        "    print(number, \"是偶数。\")\n",
        "else:\n",
        "    print(number, \"是奇数。\")"
      ]
    },
    {
      "cell_type": "markdown",
      "metadata": {},
      "source": [
        "### 练习2：判断闰年\n",
        "编写一个程序，判断用户输入的年份是否是闰年。\n",
        "\n",
        "闰年的判断规则：\n",
        "1. 能被4整除但不能被100整除\n",
        "2. 或者能被400整除"
      ]
    },
    {
      "cell_type": "code",
      "execution_count": null,
      "metadata": {},
      "outputs": [],
      "source": [
        "# 获取用户输入\n",
        "year = int(input(\"请输入一个年份：\"))\n",
        "\n",
        "# 判断闰年\n",
        "if (year % 4 == 0 and year % 100 != 0) or (year % 400 == 0):\n",
        "    print(year, \"是闰年。\")\n",
        "else:\n",
        "    print(year, \"不是闰年。\")"
      ]
    },
    {
      "cell_type": "markdown",
      "metadata": {},
      "source": [
        "### 练习3：石头剪刀布游戏\n",
        "编写一个简单的石头剪刀布游戏，程序随机选择一个手势，然后根据用户的输入判断胜负。"
      ]
    },
    {
      "cell_type": "code",
      "execution_count": null,
      "metadata": {},
      "outputs": [],
      "source": [
        "import random\n",
        "\n",
        "# 定义可选的手势\n",
        "gestures = [\"石头\", \"剪刀\", \"布\"]\n",
        "\n",
        "# 计算机随机选择一个手势\n",
        "computer_choice = random.choice(gestures)\n",
        "\n",
        "# 获取用户输入\n",
        "user_choice = input(\"请选择：石头、剪刀、布：\")\n",
        "\n",
        "# 打印选择结果\n",
        "print(\"你选择了：\", user_choice)\n",
        "print(\"计算机选择了：\", computer_choice)\n",
        "\n",
        "# 判断胜负\n",
        "if user_choice == computer_choice:\n",
        "    print(\"平局！\")\n",
        "elif (\n",
        "    (user_choice == \"石头\" and computer_choice == \"剪刀\") or\n",
        "    (user_choice == \"剪刀\" and computer_choice == \"布\") or\n",
        "    (user_choice == \"布\" and computer_choice == \"石头\")\n",
        "):\n",
        "    print(\"你赢了！\")\n",
        "else:\n",
        "    print(\"你输了！\")"
      ]
    },
    {
      "cell_type": "markdown",
      "metadata": {},
      "source": [
        "### 挑战！\n",
        "\n",
        "编写一个程序，根据用户输入的成绩，输出对应的等级和评语：\n",
        "- 90分及以上：等级A，评语\"优秀\"\n",
        "- 80-89分：等级B，评语\"良好\"\n",
        "- 70-79分：等级C，评语\"中等\"\n",
        "- 60-69分：等级D，评语\"及格\"\n",
        "- 60分以下：等级F，评语\"不及格\""
      ]
    },
    {
      "cell_type": "code",
      "execution_count": null,
      "metadata": {},
      "outputs": [],
      "source": [
        "# 获取用户输入\n",
        "score = float(input(\"请输入你的成绩：\"))\n",
        "\n",
        "# 判断等级和评语\n",
        "if score >= 90:\n",
        "    grade = \"A\"\n",
        "    comment = \"优秀\"\n",
        "elif score >= 80:\n",
        "    grade = \"B\"\n",
        "    comment = \"良好\"\n",
        "elif score >= 70:\n",
        "    grade = \"C\"\n",
        "    comment = \"中等\"\n",
        "elif score >= 60:\n",
        "    grade = \"D\"\n",
        "    comment = \"及格\"\n",
        "else:\n",
        "    grade = \"F\"\n",
        "    comment = \"不及格\"\n",
        "\n",
        "# 打印结果\n",
        "print(f\"你的等级是{grade}，评语：{comment}\")"
      ]
    },
    {
      "cell_type": "markdown",
      "metadata": {},
      "source": [
        "# 恭喜你完成了今天的学习！\n",
        "\n",
        "你已经学习了Python中的逻辑运算符、if条件语句及其实例练习。\n",
        "\n",
        "继续练习，你会越来越熟练的！"
      ]
    }
  ],
  "metadata": {
    "kernelspec": {
      "display_name": "Python 3",
      "language": "python",
      "name": "python3"
    },
    "language_info": {
      "codemirror_mode": {
        "name": "ipython",
        "version": 3
      },
      "file_extension": ".py",
      "mimetype": "text/x-python",
      "name": "python",
      "nbconvert_exporter": "python",
      "pygments_lexer": "ipython3",
      "version": "3.8.5"
    }
  },
  "nbformat": 4,
  "nbformat_minor": 4
}