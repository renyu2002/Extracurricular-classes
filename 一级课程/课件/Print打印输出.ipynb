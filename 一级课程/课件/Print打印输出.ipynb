{
  "cells": [
    {
      "cell_type": "markdown",
      "metadata": {},
      "source": [
        "# 欢迎学习Python基础语法！\n",
        "\n",
        "今天我们将学习Python中的print()函数、转义字符、三引号和程序注释。\n",
        "\n",
        "让我们开始吧！"
      ]
    },
    {
      "cell_type": "markdown",
      "metadata": {},
      "source": [
        "## 1. print()函数的基本用法\n",
        "\n",
        "在Python中，`print()`函数是我们最常用的函数之一，它的作用是将内容输出到屏幕上。\n",
        "\n",
        "下面是一些基本用法的例子："
      ]
    },
    {
      "cell_type": "code",
      "execution_count": null,
      "metadata": {},
      "outputs": [],
      "source": [
        "# 打印文本\n",
        "print(\"Hello, World!\")\n",
        "\n",
        "# 打印数字\n",
        "print(123)\n",
        "\n",
        "# 打印计算结果\n",
        "print(5 + 3)\n",
        "\n",
        "# 打印多个内容\n",
        "print(\"My age is\", 15)"
      ]
    },
    {
      "cell_type": "markdown",
      "metadata": {},
      "source": [
        "### 试一试！\n",
        "\n",
        "现在轮到你了！在下面的代码单元格中尝试使用`print()`函数输出不同的内容。"
      ]
    },
    {
      "cell_type": "code",
      "execution_count": null,
      "metadata": {},
      "outputs": [],
      "source": [
        "# 在这里写下你的print()函数代码\n",
        "# 例如：print(\"我喜欢编程！\")\n",
        "# 然后按下Shift+Enter运行代码"
      ]
    },
    {
      "cell_type": "markdown",
      "metadata": {},
      "source": [
        "## 2. 学习常用的转义字符\n",
        "\n",
        "在字符串中，有些字符不能直接输入，比如换行符、制表符等。这时我们就需要使用转义字符。\n",
        "\n",
        "转义字符以反斜杠`\\`开头，后面跟着特定的字符。\n",
        "\n",
        "下面是一些常用的转义字符："
      ]
    },
    {
      "cell_type": "code",
      "execution_count": null,
      "metadata": {},
      "outputs": [],
      "source": [
        "# 换行符 \\n\n",
        "print(\"Hello\\nWorld!\")\n",
        "\n",
        "# 制表符 \\t\n",
        "print(\"姓名\\t年龄\\n小明\\t13\")\n",
        "\n",
        "# 双引号 \\\"\n",
        "print(\"她说：\\\"你好！\\\" \")\n",
        "\n",
        "# 单引号 \\\'\n",
        "print(\'I\\\'m a student.\')\n",
        "\n",
        "# 反斜杠 \\\\\n",
        "print(\"文件路径：C:\\\\Users\\\\Documents\")"
      ]
    },
    {
      "cell_type": "markdown",
      "metadata": {},
      "source": [
        "### 思考一下！\n",
        "\n",
        "下面的代码会输出什么？先自己想一想，然后在代码单元格中运行看看。\n",
        "\n",
        "`print(\"\\tPython\\n\\tis\\n\\t\\tawesome!\")`"
      ]
    },
    {
      "cell_type": "code",
      "execution_count": null,
      "metadata": {},
      "outputs": [],
      "source": [
        "# 运行这段代码，看看输出结果\n",
        "print(\"\\tPython\\n\\tis\\n\\t\\tawesome!\")"
      ]
    },
    {
      "cell_type": "markdown",
      "metadata": {},
      "source": [
        "## 3. 三引号的使用方法\n",
        "\n",
        "在Python中，除了使用单引号和双引号来创建字符串，我们还可以使用三引号（`'''`或`\"\"\"`）。\n",
        "\n",
        "三引号的主要作用是创建多行字符串。\n",
        "\n",
        "让我们看一些例子："
      ]
    },
    {
      "cell_type": "code",
      "execution_count": null,
      "metadata": {},
      "outputs": [],
      "source": [
        "# 使用三引号创建多行字符串\n",
        "print(\'\'\'\n",
        "这是一个多行字符串示例。\n",
        "它可以包含很多行文本。\n",
        "甚至可以包含标点符号：\"'!@#$%^&*()\n",
        "\'\'\')\n",
        "\n",
        "# 另一种写法\n",
        "message = \"\"\"你好，\n",
        "欢迎学习Python！\n",
        "今天我们将学习三引号。\"\"\"\n",
        "print(message)"
      ]
    },
    {
      "cell_type": "markdown",
      "metadata": {},
      "source": [
        "### 练习时间！\n",
        "\n",
        "使用三引号创建一个你自己的小短文，然后用`print()`函数输出它。"
      ]
    },
    {
      "cell_type": "code",
      "execution_count": null,
      "metadata": {},
      "outputs": [],
      "source": [
        "# 使用三引号创建一个多行字符串\n",
        "my_essay = \"\"\"\n",
        "我的梦想\n",
        "我长大后想成为一名宇航员。\n",
        "我想探索宇宙，看看其他星球是什么样子的。\n",
        "我知道这需要很多努力，但我会加油的！\n",
        "\"\"\"\n",
        "\n",
        "# 打印短文\n",
        "print(my_essay)"
      ]
    },
    {
      "cell_type": "markdown",
      "metadata": {},
      "source": [
        "## 4. Python中的程序注释\n",
        "\n",
        "在编写代码时，我们经常需要添加一些说明文字，帮助自己或别人理解代码的功能。这就是注释的作用。\n",
        "\n",
        "在Python中，有两种添加注释的方法："
      ]
    },
    {
      "cell_type": "code",
      "execution_count": null,
      "metadata": {},
      "outputs": [],
      "source": [
        "# 单行注释：使用#符号\n",
        "# 下面这行代码会打印问候语\n",
        "print(\"你好！\")\n",
        "\n",
        "# 多行注释：使用三引号\n",
        "''' \n",
        "这段代码计算圆的面积\n",
        "需要导入math模块\n",
        "使用公式：面积 = π × 半径²\n",
        "'''\n",
        "import math\n",
        "radius = 5\n",
        "area = math.pi * radius ** 2\n",
        "print(\"圆的面积是：\", area)"
      ]
    },
    {
      "cell_type": "markdown",
      "metadata": {},
      "source": [
        "### 挑战！\n",
        "\n",
        "编写一个程序，计算并打印出矩形的面积和周长。\n",
        "要求：\n",
        "1. 使用变量存储矩形的长和宽\n",
        "2. 添加适当的注释解释你的代码\n",
        "3. 使用转义字符使输出更整齐"
      ]
    },
    {
      "cell_type": "code",
      "execution_count": null,
      "metadata": {},
      "outputs": [],
      "source": [
        "# 定义矩形的长和宽\n",
        "length = 10\n",
        "width = 5\n",
        "\n",
        "# 计算矩形的面积\n",
        "area = length * width\n",
        "\n",
        "# 计算矩形的周长\n",
        "perimeter = 2 * (length + width)\n",
        "\n",
        "# 打印结果，使用转义字符使输出更整齐\n",
        "print(\"矩形的长：\\t\", length)\n",
        "print(\"矩形的宽：\\t\", width)\n",
        "print(\"矩形的面积：\\t\", area)\n",
        "print(\"矩形的周长：\\t\", perimeter)"
      ]
    },
    {
      "cell_type": "markdown",
      "metadata": {},
      "source": [
        "# 恭喜你完成了今天的学习！\n",
        "\n",
        "你已经学习了Python中的print()函数、转义字符、三引号和程序注释。\n",
        "\n",
        "继续练习，你会越来越熟练的！"
      ]
    }
  ],
  "metadata": {
    "kernelspec": {
      "display_name": "Python 3",
      "language": "python",
      "name": "python3"
    },
    "language_info": {
      "codemirror_mode": {
        "name": "ipython",
        "version": 3
      },
      "file_extension": ".py",
      "mimetype": "text/x-python",
      "name": "python",
      "nbconvert_exporter": "python",
      "pygments_lexer": "ipython3",
      "version": "3.8.5"
    }
  },
  "nbformat": 4,
  "nbformat_minor": 4
}