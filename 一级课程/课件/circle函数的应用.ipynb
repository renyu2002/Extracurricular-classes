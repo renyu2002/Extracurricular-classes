{
  "cells": [
    {
      "cell_type": "markdown",
      "metadata": {},
      "source": [
        "# 欢迎学习Python turtle库的circle函数！\n",
        "\n",
        "今天我们将学习使用turtle库的circle函数绘制各种圆形和弧形。\n",
        "\n",
        "让我们开始吧！"
      ]
    },
    {
      "cell_type": "markdown",
      "metadata": {},
      "source": [
        "## 1. circle函数的使用方法\n",
        "\n",
        "### circle函数基本语法：\n",
        "```python\n",
        "turtle.circle(radius, extent=None, steps=None)\n",
        "```\n",
        "\n",
        "- **radius**：圆的半径（正数表示逆时针画圆，负数表示顺时针画圆）\n",
        "- **extent**：可选参数，绘制的角度（默认为360度，即完整的圆）\n",
        "- **steps**：可选参数，绘制圆的边数（默认为None，表示平滑的圆）\n",
        "\n",
        "### 简单示例："
      ]
    },
    {
      "cell_type": "code",
      "execution_count": null,
      "metadata": {},
      "outputs": [],
      "source": [
        "import turtle\n",
        "\n",
        "# 创建画布和海龟\n",
        "screen = turtle.Screen()\n",
        "t = turtle.Turtle()\n",
        "\n",
        "# 绘制一个半径为100的完整圆\n",
        "t.circle(100)\n",
        "\n",
        "# 移动海龟\n",
        "t.penup()\n",
        "t.goto(200, 0)\n",
        "t.pendown()\n",
        "\n",
        "# 绘制一个半径为-100的完整圆（顺时针方向）\n",
        "t.circle(-100)\n",
        "\n",
        "t.hideturtle()"
      ]
    },
    {
      "cell_type": "markdown",
      "metadata": {},
      "source": [
        "### 绘制圆弧\n",
        "通过指定`extent`参数，可以绘制圆弧："
      ]
    },
    {
      "cell_type": "code",
      "execution_count": null,
      "metadata": {},
      "outputs": [],
      "source": [
        "import turtle\n",
        "\n",
        "screen = turtle.Screen()\n",
        "t = turtle.Turtle()\n",
        "\n",
        "# 绘制一个半径为100，角度为90度的圆弧（四分之一圆）\n",
        "t.circle(100, 90)\n",
        "\n",
        "# 移动海龟\n",
        "t.penup()\n",
        "t.goto(200, 0)\n",
        "t.setheading(0)  # 重置海龟方向\n",
        "t.pendown()\n",
        "\n",
        "# 绘制一个半径为-100，角度为180度的圆弧（半圆）\n",
        "t.circle(-100, 180)\n",
        "\n",
        "t.hideturtle()"
      ]
    },
    {
      "cell_type": "markdown",
      "metadata": {},
      "source": [
        "### 绘制多边形\n",
        "通过指定`steps`参数，可以绘制多边形："
      ]
    },
    {
      "cell_type": "code",
      "execution_count": null,
      "metadata": {},
      "outputs": [],
      "source": [
        "import turtle\n",
        "\n",
        "screen = turtle.Screen()\n",
        "t = turtle.Turtle()\n",
        "\n",
        "# 绘制一个三角形（3条边）\n",
        "t.circle(100, steps=3)\n",
        "\n",
        "# 移动海龟\n",
        "t.penup()\n",
        "t.goto(250, 0)\n",
        "t.pendown()\n",
        "\n",
        "# 绘制一个正方形（4条边）\n",
        "t.circle(100, steps=4)\n",
        "\n",
        "# 移动海龟\n",
        "t.penup()\n",
        "t.goto(500, 0)\n",
        "t.pendown()\n",
        "\n",
        "# 绘制一个六边形（6条边）\n",
        "t.circle(100, steps=6)\n",
        "\n",
        "t.hideturtle()"
      ]
    },
    {
      "cell_type": "markdown",
      "metadata": {},
      "source": [
        "## 2. circle函数绘制要求的图形\n",
        "\n",
        "### 练习1：绘制奥运五环\n",
        "使用circle函数绘制奥运五环标志。\n",
        "\n",
        "提示：\n",
        "- 五个环的颜色分别是：蓝色、黄色、黑色、绿色、红色\n",
        "- 每个环的半径为50\n",
        "- 环之间的间距为70"
      ]
    },
    {
      "cell_type": "code",
      "execution_count": null,
      "metadata": {},
      "outputs": [],
      "source": [
        "import turtle\n",
        "\n",
        "screen = turtle.Screen()\n",
        "t = turtle.Turtle()\n",
        "t.speed(0)  # 设置最快速度\n",
        "\n",
        "# 定义环的颜色\n",
        "colors = [\"blue\", \"yellow\", \"black\", \"green\", \"red\"]\n",
        "\n",
        "# 绘制奥运五环\n",
        "for i in range(5):\n",
        "    # 设置画笔颜色\n",
        "    t.pencolor(colors[i])\n",
        "    t.pensize(5)\n",
        "\n",
        "    # 计算环的位置\n",
        "    if i < 3:\n",
        "        x = i * 140\n",
        "        y = 0\n",
        "    else:\n",
        "        x = (i - 3) * 140 + 70\n",
        "        y = -70\n",
        "\n",
        "    # 移动到指定位置\n",
        "    t.penup()\n",
        "    t.goto(x, y)\n",
        "    t.pendown()\n",
        "\n",
        "    # 绘制环\n",
        "    t.circle(50)\n",
        "\n",
        "t.hideturtle()"
      ]
    },
    {
      "cell_type": "markdown",
      "metadata": {},
      "source": [
        "### 练习2：绘制花朵\n",
        "使用circle函数绘制一朵花。\n",
        "\n",
        "提示：\n",
        "- 花瓣可以用圆弧来绘制\n",
        "- 花朵中心可以用一个小圆来表示"
      ]
    },
    {
      "cell_type": "code",
      "execution_count": null,
      "metadata": {},
      "outputs": [],
      "source": [
        "import turtle\n",
        "\n",
        "screen = turtle.Screen()\n",
        "t = turtle.Turtle()\n",
        "t.speed(0)  # 设置最快速度\n",
        "\n",
        "# 设置画笔和填充颜色\n",
        "t.pencolor(\"red\")\n",
        "t.fillcolor(\"yellow\")\n",
        "\n",
        "# 绘制花朵的花瓣\n",
        "for i in range(12):\n",
        "    # 绘制一个圆弧作为花瓣\n",
        "    t.begin_fill()\n",
        "    t.circle(100, 60)\n",
        "    t.left(120)\n",
        "    t.circle(100, 60)\n",
        "    t.end_fill()\n",
        "    t.left(30)  # 旋转到下一个花瓣的位置\n",
        "\n",
        "# 绘制花朵中心\n",
        "t.penup()\n",
        "t.goto(0, 30)\n",
        "t.pendown()\n",
        "t.pencolor(\"brown\")\n",
        "t.fillcolor(\"brown\")\n",
        "t.begin_fill()\n",
        "t.circle(30)\n",
        "t.end_fill()\n",
        "\n",
        "# 绘制花茎\n",
        "t.penup()\n",
        "t.goto(0, -70)\n",
        "t.pendown()\n",
        "t.pencolor(\"green\")\n",
        "t.pensize(5)\n",
        "t.goto(0, -200)\n",
        "\n",
        "# 绘制叶子\n",
        "t.penup()\n",
        "t.goto(0, -120)\n",
        "t.pendown()\n",
        "t.setheading(-45)\n",
        "t.fillcolor(\"green\")\n",
        "t.begin_fill()\n",
        "t.circle(40, 90)\n",
        "t.end_fill()\n",
        "\n",
        "t.hideturtle()"
      ]
    },
    {
      "cell_type": "markdown",
      "metadata": {},
      "source": [
        "### 挑战！绘制螺旋线\n",
        "使用circle函数绘制一个螺旋线。\n",
        "\n",
        "提示：\n",
        "- 每次绘制一个小圆弧，然后逐渐增加半径"
      ]
    },
    {
      "cell_type": "code",
      "execution_count": null,
      "metadata": {},
      "outputs": [],
      "source": [
        "import turtle\n",
        "\n",
        "screen = turtle.Screen()\n",
        "t = turtle.Turtle()\n",
        "t.speed(0)  # 设置最快速度\n",
        "\n",
        "# 设置画笔颜色\n",
        "t.pencolor(\"blue\")\n",
        "\n",
        "# 绘制螺旋线\n",
        "radius = 5\n",
        "for i in range(200):\n",
        "    # 绘制一个小圆弧\n",
        "    t.circle(radius, 10)\n",
        "    # 逐渐增加半径\n",
        "    radius += 0.5\n",
        "\n",
        "t.hideturtle()"
      ]
    },
    {
      "cell_type": "markdown",
      "metadata": {},
      "source": [
        "# 恭喜你完成了今天的学习！\n",
        "\n",
        "你已经学习了turtle库中circle函数的使用方法，可以绘制各种圆形、弧形和多边形了。\n",
        "\n",
        "继续练习，你会画出更复杂、更漂亮的图案！"
      ]
    }
  ],
  "metadata": {
    "kernelspec": {
      "display_name": "Python 3",
      "language": "python",
      "name": "python3"
    },
    "language_info": {
      "codemirror_mode": {
        "name": "ipython",
        "version": 3
      },
      "file_extension": ".py",
      "mimetype": "text/x-python",
      "name": "python",
      "nbconvert_exporter": "python",
      "pygments_lexer": "ipython3",
      "version": "3.8.5"
    }
  },
  "nbformat": 4,
  "nbformat_minor": 4
}