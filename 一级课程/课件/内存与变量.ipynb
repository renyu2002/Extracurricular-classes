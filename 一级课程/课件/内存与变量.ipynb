{
  "cells": [
    {
      "cell_type": "markdown",
      "metadata": {},
      "source": [
        "# 欢迎学习Python变量基础！\n",
        "\n",
        "今天我们将学习程序的三大组成部分、内存与变量、变量命名规则及赋值操作。\n",
        "\n",
        "让我们开始吧！"
      ]
    },
    {
      "cell_type": "markdown",
      "metadata": {},
      "source": [
        "## 1. 程序的三大组成部分\n",
        "\n",
        "一个完整的计算机程序通常由三部分组成：\n",
        "\n",
        "1. **输入** - 程序从外部获取数据的过程\n",
        "2. **处理** - 程序对数据进行计算或转换的过程\n",
        "3. **输出** - 程序将处理结果展示给用户的过程\n",
        "\n",
        "让我们通过一个简单的例子来理解这三个部分："
      ]
    },
    {
      "cell_type": "code",
      "execution_count": null,
      "metadata": {},
      "outputs": [],
      "source": [
        "# 输入部分：获取用户输入\n",
        "num1 = input(\"请输入第一个数字：\")\n",
        "num2 = input(\"请输入第二个数字：\")\n",
        "\n",
        "# 处理部分：将输入的字符串转换为数字并相加\n",
        "sum_result = int(num1) + int(num2)\n",
        "\n",
        "# 输出部分：显示计算结果\n",
        "print(\"两数之和是：\", sum_result)"
      ]
    },
    {
      "cell_type": "markdown",
      "metadata": {},
      "source": [
        "### 思考一下！\n",
        "\n",
        "你能说出一个生活中类似\"输入-处理-输出\"的例子吗？"
      ]
    },
    {
      "cell_type": "code",
      "execution_count": null,
      "metadata": {},
      "outputs": [],
      "source": [
        "# 在这里写下你的例子（作为注释）\n",
        "# 例如：\n",
        "# 输入：从冰箱里拿出食材\n",
        "# 处理：烹饪食材\n",
        "# 输出：享用美食"
      ]
    },
    {
      "cell_type": "markdown",
      "metadata": {},
      "source": [
        "## 2. 内存与变量的概念\n",
        "\n",
        "### 内存是什么？\n",
        "内存是计算机中用于临时存储数据的地方，就像我们的大脑临时记住一些信息一样。\n",
        "\n",
        "### 变量是什么？\n",
        "变量是计算机内存中的一块区域，我们可以给它起一个名字，用来存储数据。\n",
        "\n",
        "可以把变量想象成一个带有标签的盒子，标签就是变量名，盒子里存放的就是数据。"
      ]
    },
    {
      "cell_type": "code",
      "execution_count": null,
      "metadata": {},
      "outputs": [],
      "source": [
        "# 创建一个变量并存储数据\n",
        "age = 13\n",
        "\n",
        "# 打印变量的值\n",
        "print(age)\n",
        "\n",
        "# 修改变量的值\n",
        "age = 14\n",
        "\n",
        "# 再次打印变量的值\n",
        "print(age)"
      ]
    },
    {
      "cell_type": "markdown",
      "metadata": {},
      "source": [
        "### 练习时间！\n",
        "\n",
        "创建两个变量，分别存储你的姓名和最喜欢的颜色，然后打印出来。"
      ]
    },
    {
      "cell_type": "code",
      "execution_count": null,
      "metadata": {},
      "outputs": [],
      "source": [
        "# 创建变量存储姓名\n",
        "name = \"小明\"\n",
        "\n",
        "# 创建变量存储最喜欢的颜色\n",
        "favorite_color = \"蓝色\"\n",
        "\n",
        "# 打印变量\n",
        "print(\"我的名字是\", name)\n",
        "print(\"我最喜欢的颜色是\", favorite_color)"
      ]
    },
    {
      "cell_type": "markdown",
      "metadata": {},
      "source": [
        "## 3. 变量的命名规则\n",
        "\n",
        "在Python中，给变量命名需要遵循一些规则：\n",
        "\n",
        "1. 变量名只能包含字母（a-z, A-Z）、数字（0-9）和下划线（_）\n",
        "2. 变量名不能以数字开头\n",
        "3. 变量名不能是Python的关键字（如`print`, `if`, `else`等）\n",
        "4. 变量名区分大小写（`age`和`Age`是不同的变量）\n",
        "\n",
        "下面是一些合法和非法的变量名示例："
      ]
    },
    {
      "cell_type": "code",
      "execution_count": null,
      "metadata": {},
      "outputs": [],
      "source": [
        "# 合法的变量名\n",
        "age = 15\n",
        "student_name = \"小红\"\n",
        "_score = 90\n",
        "age2 = 20\n",
        "\n",
        "# 非法的变量名（会报错，所以注释掉）\n",
        "# 123age = 10    # 不能以数字开头\n",
        "# my-name = \"Tom\"  # 不能包含连字符\n",
        "# if = 50       # 不能使用关键字作为变量名"
      ]
    },
    {
      "cell_type": "markdown",
      "metadata": {},
      "source": [
        "### 挑战！\n",
        "\n",
        "判断以下变量名是否合法，如果不合法，请说明原因：\n",
        "\n",
        "1. `myVariable`\n",
        "2. `2ndNumber`\n",
        "3. `total$amount`\n",
        "4. `_hidden`\n",
        "5. `for`\n",
        "\n",
        "在下面的代码单元格中写下你的答案（作为注释）。"
      ]
    },
    {
      "cell_type": "code",
      "execution_count": null,
      "metadata": {},
      "outputs": [],
      "source": [
        "# 1. 合法\n",
        "# 2. 不合法，以数字开头\n",
        "# 3. 不合法，包含非法字符$ \n",
        "# 4. 合法\n",
        "# 5. 不合法，使用了关键字for"
      ]
    },
    {
      "cell_type": "markdown",
      "metadata": {},
      "source": [
        "## 4. 变量的赋值操作\n",
        "\n",
        "在Python中，我们使用等号（=）来给变量赋值。赋值的过程就是把数据存储到变量对应的内存位置。\n",
        "\n",
        "让我们看一些赋值操作的例子："
      ]
    },
    {
      "cell_type": "code",
      "execution_count": null,
      "metadata": {},
      "outputs": [],
      "source": [
        "# 基本赋值\n",
        "x = 10\n",
        "y = 20\n",
        "\n",
        "# 计算后赋值\n",
        "sum_result = x + y\n",
        "\n",
        "# 连续赋值\n",
        "a = b = c = 5\n",
        "\n",
        "# 交换变量的值\n",
        "temp = x\n",
        "x = y\n",
        "y = temp\n",
        "\n",
        "# 打印结果\n",
        "print(\"x =\", x)\n",
        "print(\"y =\", y)\n",
        "print(\"sum_result =\", sum_result)\n",
        "print(\"a =\", a, \"b =\", b, \"c =\", c)"
      ]
    },
    {
      "cell_type": "markdown",
      "metadata": {},
      "source": [
        "### 综合练习！\n",
        "\n",
        "编写一个程序，计算并打印出三角形的面积。\n",
        "要求：\n",
        "1. 使用变量存储三角形的底和高\n",
        "2. 使用正确的变量命名规则\n",
        "3. 计算面积的公式：面积 = (底 × 高) ÷ 2\n",
        "4. 打印结果"
      ]
    },
    {
      "cell_type": "code",
      "execution_count": null,
      "metadata": {},
      "outputs": [],
      "source": [
        "# 定义三角形的底和高\n",
        "base = 10\n",
        "height = 5\n",
        "\n",
        "# 计算三角形的面积\n",
        "area = (base * height) / 2\n",
        "\n",
        "# 打印结果\n",
        "print(\"三角形的底：\", base)\n",
        "print(\"三角形的高：\", height)\n",
        "print(\"三角形的面积：\", area)"
      ]
    },
    {
      "cell_type": "markdown",
      "metadata": {},
      "source": [
        "# 恭喜你完成了今天的学习！\n",
        "\n",
        "你已经学习了程序的三大组成部分、内存与变量、变量命名规则及赋值操作。\n",
        "\n",
        "继续练习，你会越来越熟练的！"
      ]
    }
  ],
  "metadata": {
    "kernelspec": {
      "display_name": "Python 3",
      "language": "python",
      "name": "python3"
    },
    "language_info": {
      "codemirror_mode": {
        "name": "ipython",
        "version": 3
      },
      "file_extension": ".py",
      "mimetype": "text/x-python",
      "name": "python",
      "nbconvert_exporter": "python",
      "pygments_lexer": "ipython3",
      "version": "3.8.5"
    }
  },
  "nbformat": 4,
  "nbformat_minor": 4
}