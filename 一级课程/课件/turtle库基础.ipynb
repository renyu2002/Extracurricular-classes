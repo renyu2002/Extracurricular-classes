{
  "cells": [
    {
      "cell_type": "markdown",
      "metadata": {},
      "source": [
        "# 欢迎学习Python绘图！\n",
        "\n",
        "今天我们将学习使用turtle库绘制图形。turtle是Python的一个简单绘图库，非常适合初学者入门。\n",
        "\n",
        "让我们开始吧！"
      ]
    },
    {
      "cell_type": "markdown",
      "metadata": {},
      "source": [
        "## 1. 认识了解turtle库\n",
        "\n",
        "turtle库是Python内置的一个简单绘图库，它模拟了一只小海龟在画布上移动并留下轨迹的过程。\n",
        "\n",
        "### 基本概念：\n",
        "- **海龟(turtle)**：代表绘图的指针，你可以控制它的移动和方向\n",
        "- **画布(canvas)**：海龟绘图的区域\n",
        "- **画笔(pen)**：海龟携带的笔，用于绘制线条\n",
        "\n",
        "让我们看一个简单的例子："
      ]
    },
    {
      "cell_type": "code",
      "execution_count": null,
      "metadata": {},
      "outputs": [],
      "source": [
        "# 导入turtle库\n",
        "import turtle\n",
        "\n",
        "# 创建画布和海龟\n",
        "screen = turtle.Screen()\n",
        "t = turtle.Turtle()\n",
        "\n",
        "# 让海龟向前移动100个单位\n",
        "t.forward(100)\n",
        "\n",
        "# 关闭画布\n",
        "# screen.exitonclick()  # 在Jupyter中不需要这行，会导致画布无法显示"
      ]
    },
    {
      "cell_type": "markdown",
      "metadata": {},
      "source": [
        "## 2. 设置turtle库的窗体与画布\n",
        "\n",
        "### 设置画布大小：\n",
        "```python\n",
        "screen = turtle.Screen()\n",
        "screen.setup(width, height)\n",
        "```\n",
        "\n",
        "### 设置画布背景颜色：\n",
        "```python\n",
        "screen.bgcolor(\"颜色名称\")\n",
        "```\n",
        "\n",
        "### 设置窗体标题：\n",
        "```python\n",
        "screen.title(\"标题文字\")\n",
        "```\n",
        "\n",
        "让我们看一个例子："
      ]
    },
    {
      "cell_type": "code",
      "execution_count": null,
      "metadata": {},
      "outputs": [],
      "source": [
        "import turtle\n",
        "\n",
        "# 创建画布\n",
        "screen = turtle.Screen()\n",
        "screen.setup(800, 600)  # 设置画布宽度800像素，高度600像素\n",
        "screen.bgcolor(\"lightblue\")  # 设置背景颜色为浅蓝色\n",
        "screen.title(\"我的海龟绘图\")  # 设置窗体标题\n",
        "\n",
        "# 创建海龟\n",
        "t = turtle.Turtle()\n",
        "\n",
        "# 绘制一个简单的正方形\n",
        "for i in range(4):\n",
        "    t.forward(100)\n",
        "    t.right(90)\n",
        "\n",
        "# 隐藏海龟\n",
        "t.hideturtle()"
      ]
    },
    {
      "cell_type": "markdown",
      "metadata": {},
      "source": [
        "## 3. turtle库常用运动控制函数\n",
        "\n",
        "### 基本运动函数：\n",
        "- `forward(distance)`：向前移动指定距离\n",
        "- `backward(distance)`：向后移动指定距离\n",
        "- `right(angle)`：向右旋转指定角度\n",
        "- `left(angle)`：向左旋转指定角度\n",
        "- `goto(x, y)`：移动到指定坐标位置\n",
        "- `setheading(angle)`：设置海龟朝向指定角度\n",
        "\n",
        "让我们看一些例子："
      ]
    },
    {
      "cell_type": "code",
      "execution_count": null,
      "metadata": {},
      "outputs": [],
      "source": [
        "import turtle\n",
        "\n",
        "screen = turtle.Screen()\n",
        "t = turtle.Turtle()\n",
        "\n",
        "# 绘制一个三角形\n",
        "for i in range(3):\n",
        "    t.forward(100)\n",
        "    t.left(120)\n",
        "\n",
        "# 移动到新位置\n",
        "t.penup()  # 抬起画笔，移动时不绘制\n",
        "t.goto(150, 0)\n",
        "t.pendown()  # 放下画笔，继续绘制\n",
        "\n",
        "# 绘制一个正方形\n",
        "for i in range(4):\n",
        "    t.forward(100)\n",
        "    t.right(90)\n",
        "\n",
        "t.hideturtle()"
      ]
    },
    {
      "cell_type": "markdown",
      "metadata": {},
      "source": [
        "## 4. 练习题:绘制两个三角形\n",
        "\n",
        "现在轮到你了！请绘制两个三角形，一个朝上，一个朝下，中间间隔一定距离。\n",
        "\n",
        "提示：\n",
        "- 朝上的三角形：每次左转120度\n",
        "- 朝下的三角形：每次右转120度\n",
        "- 使用`penup()`和`pendown()`移动时不绘制线条"
      ]
    },
    {
      "cell_type": "code",
      "execution_count": null,
      "metadata": {},
      "outputs": [],
      "source": [
        "import turtle\n",
        "\n",
        "screen = turtle.Screen()\n",
        "t = turtle.Turtle()\n",
        "\n",
        "# 绘制朝上的三角形\n",
        "# 在这里写下你的代码\n",
        "\n",
        "# 移动到新位置\n",
        "t.penup()\n",
        "t.goto(150, 0)\n",
        "t.pendown()\n",
        "\n",
        "# 绘制朝下的三角形\n",
        "# 在这里写下你的代码\n",
        "\n",
        "t.hideturtle()"
      ]
    },
    {
      "cell_type": "markdown",
      "metadata": {},
      "source": [
        "## 5. 画笔状态函数的使用\n",
        "\n",
        "### 常用画笔控制函数：\n",
        "- `penup()`：抬起画笔，移动时不绘制\n",
        "- `pendown()`：放下画笔，移动时绘制\n",
        "- `pensize(size)`：设置画笔粗细\n",
        "- `pencolor(color)`：设置画笔颜色\n",
        "- `fillcolor(color)`：设置填充颜色\n",
        "- `begin_fill()`：开始填充\n",
        "- `end_fill()`：结束填充\n",
        "\n",
        "让我们看一个彩色正方形的例子："
      ]
    },
    {
      "cell_type": "code",
      "execution_count": null,
      "metadata": {},
      "outputs": [],
      "source": [
        "import turtle\n",
        "\n",
        "screen = turtle.Screen()\n",
        "t = turtle.Turtle()\n",
        "\n",
        "# 设置画笔和填充颜色\n",
        "t.pencolor(\"red\")  # 画笔颜色为红色\n",
        "t.fillcolor(\"yellow\")  # 填充颜色为黄色\n",
        "t.pensize(3)  # 画笔粗细为3\n",
        "\n",
        "# 开始填充\n",
        "t.begin_fill()\n",
        "\n",
        "# 绘制正方形\n",
        "for i in range(4):\n",
        "    t.forward(100)\n",
        "    t.right(90)\n",
        "\n",
        "# 结束填充\n",
        "t.end_fill()\n",
        "\n",
        "t.hideturtle()"
      ]
    },
    {
      "cell_type": "markdown",
      "metadata": {},
      "source": [
        "## 6. 绘制符合要求的图案\n",
        "\n",
        "现在轮到你了！请绘制一个五角星，并填充为黄色，边框为红色。\n",
        "\n",
        "提示：\n",
        "- 五角星每个角的角度是36度\n",
        "- 绘制五角星需要转144度（180-36）"
      ]
    },
    {
      "cell_type": "code",
      "execution_count": null,
      "metadata": {},
      "outputs": [],
      "source": [
        "import turtle\n",
        "\n",
        "screen = turtle.Screen()\n",
        "t = turtle.Turtle()\n",
        "\n",
        "# 设置画笔和填充颜色\n",
        "# 在这里写下你的代码\n",
        "\n",
        "# 开始填充\n",
        "# 在这里写下你的代码\n",
        "\n",
        "# 绘制五角星\n",
        "# 在这里写下你的代码\n",
        "\n",
        "# 结束填充\n",
        "# 在这里写下你的代码\n",
        "\n",
        "t.hideturtle()"
      ]
    },
    {
      "cell_type": "markdown",
      "metadata": {},
      "source": [
        "## 7. 讲解turtle库其他控制函数\n",
        "\n",
        "### 其他常用控制函数：\n",
        "- `speed(speed)`：设置海龟移动速度（0-10，0最快）\n",
        "- `showturtle()`：显示海龟\n",
        "- `hideturtle()`：隐藏海龟\n",
        "- `clear()`：清除当前画布上的所有内容\n",
        "- `reset()`：重置海龟和画布\n",
        "- `circle(radius)`：绘制一个指定半径的圆\n",
        "\n",
        "让我们看一个绘制多个彩色圆的例子："
      ]
    },
    {
      "cell_type": "code",
      "execution_count": null,
      "metadata": {},
      "outputs": [],
      "source": [
        "import turtle\n",
        "import random\n",
        "\n",
        "screen = turtle.Screen()\n",
        "t = turtle.Turtle()\n",
        "t.speed(0)  # 设置最快速度\n",
        "\n",
        "# 定义颜色列表\n",
        "colors = [\"red\", \"orange\", \"yellow\", \"green\", \"blue\", \"purple\"]\n",
        "\n",
        "# 绘制10个随机颜色和大小的圆\n",
        "for i in range(10):\n",
        "    # 随机选择颜色\n",
        "    color = random.choice(colors)\n",
        "    t.pencolor(color)\n",
        "    t.fillcolor(color)\n",
        "\n",
        "    # 随机大小\n",
        "    radius = random.randint(20, 100)\n",
        "\n",
        "    # 开始填充\n",
        "    t.begin_fill()\n",
        "\n",
        "    # 绘制圆\n",
        "    t.circle(radius)\n",
        "\n",
        "    # 结束填充\n",
        "    t.end_fill()\n",
        "\n",
        "    # 移动到新位置\n",
        "    t.penup()\n",
        "    x = random.randint(-200, 200)\n",
        "    y = random.randint(-200, 200)\n",
        "    t.goto(x, y)\n",
        "    t.pendown()\n",
        "\n",
        "t.hideturtle()"
      ]
    },
    {
      "cell_type": "markdown",
      "metadata": {},
      "source": [
        "# 恭喜你完成了今天的学习！\n",
        "\n",
        "你已经学习了turtle库的基本用法，可以绘制各种有趣的图形了。\n",
        "\n",
        "继续练习，你会画出更复杂、更漂亮的图案！"
      ]
    }
  ],
  "metadata": {
    "kernelspec": {
      "display_name": "Python 3",
      "language": "python",
      "name": "python3"
    },
    "language_info": {
      "codemirror_mode": {
        "name": "ipython",
        "version": 3
      },
      "file_extension": ".py",
      "mimetype": "text/x-python",
      "name": "python",
      "nbconvert_exporter": "python",
      "pygments_lexer": "ipython3",
      "version": "3.8.5"
    }
  },
  "nbformat": 4,
  "nbformat_minor": 4
}