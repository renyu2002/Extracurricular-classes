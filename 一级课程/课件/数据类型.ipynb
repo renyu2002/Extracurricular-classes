{
  "cells": [
    {
      "cell_type": "markdown",
      "metadata": {},
      "source": [
        "# 欢迎学习Python数据类型！\n",
        "\n",
        "今天我们将学习Python中的基本数据类型、type()函数、数据类型转换和字符串操作。\n",
        "\n",
        "让我们开始吧！"
      ]
    },
    {
      "cell_type": "markdown",
      "metadata": {},
      "source": [
        "## 1. 了解基本的数据类型\n",
        "\n",
        "在Python中，有几种基本的数据类型，它们就像不同类型的容器，用来存储不同类型的数据。\n",
        "\n",
        "### 常见的基本数据类型：\n",
        "\n",
        "- **整数（int）**：没有小数点的数字，如10, -5, 0\n",
        "- **浮点数（float）**：带小数点的数字，如3.14, -0.5\n",
        "- **字符串（str）**：用单引号或双引号括起来的文本，如\"Hello\"或'World'\n",
        "- **布尔值（bool）**：只有两个值，True（真）或False（假）\n",
        "\n",
        "让我们看一些例子："
      ]
    },
    {
      "cell_type": "code",
      "execution_count": null,
      "metadata": {},
      "outputs": [],
      "source": [
        "# 整数\n",
        "age = 13\n",
        "\n",
        "# 浮点数\n",
        "height = 1.65\n",
        "\n",
        "# 字符串\n",
        "name = \"小明\"\n",
        "\n",
        "# 布尔值\n",
        "is_student = True\n",
        "\n",
        "# 打印变量\n",
        "print(age)\n",
        "print(height)\n",
        "print(name)\n",
        "print(is_student)"
      ]
    },
    {
      "cell_type": "markdown",
      "metadata": {},
      "source": [
        "### 试一试！\n",
        "\n",
        "在下面的代码单元格中创建四个变量，分别存储你的年龄（整数）、身高（浮点数）、姓名（字符串）和是否喜欢编程（布尔值），然后打印这些变量。"
      ]
    },
    {
      "cell_type": "code",
      "execution_count": null,
      "metadata": {},
      "outputs": [],
      "source": [
        "# 在这里创建并打印你的变量\n",
        "# 例如：\n",
        "# age = 14\n",
        "# height = 1.70\n",
        "# name = \"小红\"\n",
        "# likes_programming = True\n",
        "# print(age, height, name, likes_programming)"
      ]
    },
    {
      "cell_type": "markdown",
      "metadata": {},
      "source": [
        "## 2. type()函数的用法\n",
        "\n",
        "在Python中，我们可以使用`type()`函数来查看一个变量或值的数据类型。\n",
        "\n",
        "让我们看看之前创建的变量都是什么类型："
      ]
    },
    {
      "cell_type": "code",
      "execution_count": null,
      "metadata": {},
      "outputs": [],
      "source": [
        "# 查看变量的数据类型\n",
        "print(type(age))\n",
        "print(type(height))\n",
        "print(type(name))\n",
        "print(type(is_student))\n",
        "\n",
        "# 直接查看值的数据类型\n",
        "print(type(100))\n",
        "print(type(3.14))\n",
        "print(type(\"Hello\"))\n",
        "print(type(False))"
      ]
    },
    {
      "cell_type": "markdown",
      "metadata": {},
      "source": [
        "### 思考一下！\n",
        "\n",
        "下面的代码会输出什么？先自己想一想，然后在代码单元格中运行看看。\n",
        "\n",
        "```python\n",
        "x = \"123\"\n",
        "print(type(x))\n",
        "x = 123\n",
        "print(type(x))\n",
        "```"
      ]
    },
    {
      "cell_type": "code",
      "execution_count": null,
      "metadata": {},
      "outputs": [],
      "source": [
        "# 运行这段代码，看看输出结果\n",
        "x = \"123\"\n",
        "print(type(x))\n",
        "x = 123\n",
        "print(type(x))"
      ]
    },
    {
      "cell_type": "markdown",
      "metadata": {},
      "source": [
        "## 3. 数据类型转换函数\n",
        "\n",
        "在编程中，我们经常需要将一种数据类型转换为另一种数据类型。Python提供了一些内置的函数来实现这一点。\n",
        "\n",
        "### 常用的数据类型转换函数：\n",
        "- `int()`：将数据转换为整数\n",
        "- `float()`：将数据转换为浮点数\n",
        "- `str()`：将数据转换为字符串\n",
        "- `bool()`：将数据转换为布尔值\n",
        "\n",
        "让我们看一些例子："
      ]
    },
    {
      "cell_type": "code",
      "execution_count": null,
      "metadata": {},
      "outputs": [],
      "source": [
        "# 字符串转整数\n",
        "num_str = \"123\"\n",
        "num_int = int(num_str)\n",
        "print(num_int, type(num_int))\n",
        "\n",
        "# 整数转浮点数\n",
        "num = 10\n",
        "num_float = float(num)\n",
        "print(num_float, type(num_float))\n",
        "\n",
        "# 数字转字符串\n",
        "age = 15\n",
        "age_str = str(age)\n",
        "print(age_str, type(age_str))\n",
        "\n",
        "# 各种值转布尔值\n",
        "print(bool(0))      # False\n",
        "print(bool(1))      # True\n",
        "print(bool(\"\"))     # False\n",
        "print(bool(\"Hello\"))  # True"
      ]
    },
    {
      "cell_type": "markdown",
      "metadata": {},
      "source": [
        "### 练习时间！\n",
        "\n",
        "尝试将字符串\"3.14\"转换为浮点数，然后将这个浮点数转换为整数，最后打印出结果和它的类型。"
      ]
    },
    {
      "cell_type": "code",
      "execution_count": null,
      "metadata": {},
      "outputs": [],
      "source": [
        "# 转换\"3.14\"为浮点数\n",
        "pi_str = \"3.14\"\n",
        "pi_float = float(pi_str)\n",
        "\n",
        "# 转换浮点数为整数\n",
        "pi_int = int(pi_float)\n",
        "\n",
        "# 打印结果和类型\n",
        "print(pi_int)\n",
        "print(type(pi_int))"
      ]
    },
    {
      "cell_type": "markdown",
      "metadata": {},
      "source": [
        "## 4. 字符串数据的常见操作\n",
        "\n",
        "字符串是Python中最常用的数据类型之一，我们可以对字符串进行很多有趣的操作。\n",
        "\n",
        "### 字符串拼接\n",
        "使用加号（+）可以将两个字符串连接在一起。"
      ]
    },
    {
      "cell_type": "code",
      "execution_count": null,
      "metadata": {},
      "outputs": [],
      "source": [
        "# 字符串拼接\n",
        "first_name = \"张\"\n",
        "last_name = \"三\"\n",
        "full_name = first_name + last_name\n",
        "print(full_name)\n",
        "\n",
        "# 字符串与数字拼接（需要先转换数字为字符串）\n",
        "age = 12\n",
        "message = \"我叫\" + full_name + \"，今年\" + str(age) + \"岁。\"\n",
        "print(message)"
      ]
    },
    {
      "cell_type": "markdown",
      "metadata": {},
      "source": [
        "### 字符串长度\n",
        "使用`len()`函数可以获取字符串的长度（即字符串中字符的个数）。"
      ]
    },
    {
      "cell_type": "code",
      "execution_count": null,
      "metadata": {},
      "outputs": [],
      "source": [
        "text = \"Hello, World!\"\n",
        "print(len(text))  # 输出13，包括空格和标点"
      ]
    },
    {
      "cell_type": "markdown",
      "metadata": {},
      "source": [
        "### 字符串索引\n",
        "字符串中的每个字符都有一个索引，可以通过索引来访问特定位置的字符。\n",
        "\n",
        "注意：Python中的索引从0开始！"
      ]
    },
    {
      "cell_type": "code",
      "execution_count": null,
      "metadata": {},
      "outputs": [],
      "source": [
        "text = \"Python\"\n",
        "\n",
        "# 访问第一个字符（索引0）\n",
        "print(text[0])\n",
        "\n",
        "# 访问第三个字符（索引2）\n",
        "print(text[2])\n",
        "\n",
        "# 访问最后一个字符（索引-1）\n",
        "print(text[-1])\n",
        "\n",
        "# 访问倒数第二个字符（索引-2）\n",
        "print(text[-2])"
      ]
    },
    {
      "cell_type": "markdown",
      "metadata": {},
      "source": [
        "### 字符串切片\n",
        "可以通过切片来获取字符串的一部分。\n",
        "\n",
        "语法：`string[start:end]`（包含start，不包含end）"
      ]
    },
    {
      "cell_type": "code",
      "execution_count": null,
      "metadata": {},
      "outputs": [],
      "source": [
        "text = \"Hello, World!\"\n",
        "\n",
        "# 获取前5个字符\n",
        "print(text[0:5])  # 等同于 text[:5]\n",
        "\n",
        "# 获取第7到第12个字符\n",
        "print(text[6:12])\n",
        "\n",
        "# 获取最后5个字符\n",
        "print(text[-5:])\n",
        "\n",
        "# 获取除了前3个字符以外的所有字符\n",
        "print(text[3:])"
      ]
    },
    {
      "cell_type": "markdown",
      "metadata": {},
      "source": [
        "### 字符串方法\n",
        "字符串有很多内置方法，可以帮助我们处理字符串。"
      ]
    },
    {
      "cell_type": "code",
      "execution_count": null,
      "metadata": {},
      "outputs": [],
      "source": [
        "text = \"  Hello, World!  \"\n",
        "\n",
        "# 转换为大写\n",
        "print(text.upper())\n",
        "\n",
        "# 转换为小写\n",
        "print(text.lower())\n",
        "\n",
        "# 去除两端空格\n",
        "print(text.strip())\n",
        "\n",
        "# 替换子字符串\n",
        "print(text.replace(\"World\", \"Python\"))\n",
        "\n",
        "# 分割字符串\n",
        "words = text.strip().split(\",\")\n",
        "print(words)"
      ]
    },
    {
      "cell_type": "markdown",
      "metadata": {},
      "source": [
        "### 挑战！\n",
        "\n",
        "编写一个程序，完成以下任务：\n",
        "1. 定义一个字符串变量，存储你的姓名\n",
        "2. 计算并打印姓名的长度\n",
        "3. 打印姓名的第一个字符和最后一个字符\n",
        "4. 打印姓名的大写形式和小写形式\n",
        "5. 创建一个新字符串，在你的姓名后面加上\"，你好！\"，然后打印这个新字符串"
      ]
    },
    {
      "cell_type": "code",
      "execution_count": null,
      "metadata": {},
      "outputs": [],
      "source": [
        "# 定义姓名变量\n",
        "name = \"李华\"\n",
        "\n",
        "# 计算并打印姓名的长度\n",
        "print(\"姓名长度：\", len(name))\n",
        "\n",
        "# 打印姓名的第一个字符和最后一个字符\n",
        "print(\"第一个字符：\", name[0])\n",
        "print(\"最后一个字符：\", name[-1])\n",
        "\n",
        "# 打印姓名的大写形式和小写形式\n",
        "print(\"大写形式：\", name.upper())\n",
        "print(\"小写形式：\", name.lower())\n",
        "\n",
        "# 创建并打印新字符串\n",
        "greeting = name + \"，你好！\"\n",
        "print(greeting)"
      ]
    },
    {
      "cell_type": "markdown",
      "metadata": {},
      "source": [
        "# 恭喜你完成了今天的学习！\n",
        "\n",
        "你已经学习了Python中的基本数据类型、type()函数、数据类型转换和字符串操作。\n",
        "\n",
        "继续练习，你会越来越熟练的！"
      ]
    }
  ],
  "metadata": {
    "kernelspec": {
      "display_name": "Python 3",
      "language": "python",
      "name": "python3"
    },
    "language_info": {
      "codemirror_mode": {
        "name": "ipython",
        "version": 3
      },
      "file_extension": ".py",
      "mimetype": "text/x-python",
      "name": "python",
      "nbconvert_exporter": "python",
      "pygments_lexer": "ipython3",
      "version": "3.8.5"
    }
  },
  "nbformat": 4,
  "nbformat_minor": 4
}