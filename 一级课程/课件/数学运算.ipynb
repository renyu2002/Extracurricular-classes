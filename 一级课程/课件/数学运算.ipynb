{
  "cells": [
    {
      "cell_type": "markdown",
      "metadata": {},
      "source": [
        "# 欢迎学习Python数学运算！\n",
        "\n",
        "今天我们将学习Python中的基本数学运算、运算优先级、变量自增自减操作以及常见的数学函数。\n",
        "\n",
        "让我们开始吧！"
      ]
    },
    {
      "cell_type": "markdown",
      "metadata": {},
      "source": [
        "## 1. 基本数学运算\n",
        "\n",
        "Python支持各种基本的数学运算，包括加法、减法、乘法、除法等。\n",
        "\n",
        "下面是一些基本数学运算的例子："
      ]
    },
    {
      "cell_type": "code",
      "execution_count": null,
      "metadata": {},
      "outputs": [],
      "source": [
        "# 加法\n",
        "print(5 + 3)\n",
        "\n",
        "# 减法\n",
        "print(10 - 4)\n",
        "\n",
        "# 乘法\n",
        "print(6 * 7)\n",
        "\n",
        "# 除法\n",
        "print(15 / 3)\n",
        "\n",
        "# 取余数（模运算）\n",
        "print(17 % 5)\n",
        "\n",
        "# 整除（向下取整）\n",
        "print(17 // 5)\n",
        "\n",
        "# 幂运算\n",
        "print(2 ** 3)"
      ]
    },
    {
      "cell_type": "markdown",
      "metadata": {},
      "source": [
        "### 试一试！\n",
        "\n",
        "现在轮到你了！在下面的代码单元格中尝试自己进行一些数学运算，然后运行看看结果是什么。"
      ]
    },
    {
      "cell_type": "code",
      "execution_count": null,
      "metadata": {},
      "outputs": [],
      "source": [
        "# 在这里写下你的数学运算代码\n",
        "# 例如：print(8 * 9)\n",
        "# 然后按下Shift+Enter运行代码"
      ]
    },
    {
      "cell_type": "markdown",
      "metadata": {},
      "source": [
        "## 2. 数学运算的优先级\n",
        "\n",
        "在数学中，运算有一定的优先级顺序，就像我们在学校学的\"先乘除后加减\"一样。\n",
        "\n",
        "Python中的运算优先级和数学中的基本一致：\n",
        "1. 括号 ()\n",
        "2. 幂运算 **\n",
        "3. 乘法 *, 除法 /, 取余 %, 整除 //\n",
        "4. 加法 +, 减法 -\n",
        "\n",
        "让我们看一些例子："
      ]
    },
    {
      "cell_type": "code",
      "execution_count": null,
      "metadata": {},
      "outputs": [],
      "source": [
        "# 优先级示例\n",
        "print(2 + 3 * 4)  # 先乘后加\n",
        "print((2 + 3) * 4)  # 括号优先\n",
        "print(2 ** 3 * 4)  # 幂运算优先\n",
        "print(10 / 2 + 3)  # 先除后加"
      ]
    },
    {
      "cell_type": "markdown",
      "metadata": {},
      "source": [
        "### 思考一下！\n",
        "\n",
        "下面的表达式会计算出什么结果？先自己想一想，然后在代码单元格中运行看看。\n",
        "\n",
        "`5 + 3 * 2 ** 2 - 7 / 2`"
      ]
    },
    {
      "cell_type": "code",
      "execution_count": null,
      "metadata": {},
      "outputs": [],
      "source": [
        "# 计算上面的表达式\n",
        "print(5 + 3 * 2 ** 2 - 7 / 2)"
      ]
    },
    {
      "cell_type": "markdown",
      "metadata": {},
      "source": [
        "## 3. 变量的自增与自减操作\n",
        "\n",
        "在编程中，我们经常需要对变量的值进行增加或减少。Python提供了一些简洁的方法来实现这一点。\n",
        "\n",
        "让我们看一些例子："
      ]
    },
    {
      "cell_type": "code",
      "execution_count": null,
      "metadata": {},
      "outputs": [],
      "source": [
        "# 自增操作\n",
        "x = 5\n",
        "print(x)\n",
        "x = x + 1  # 自增1\n",
        "print(x)\n",
        "x += 2  # 自增2，等同于 x = x + 2\n",
        "print(x)\n",
        "\n",
        "# 自减操作\n",
        "y = 10\n",
        "print(y)\n",
        "y = y - 1  # 自减1\n",
        "print(y)\n",
        "y -= 3  # 自减3，等同于 y = y - 3\n",
        "print(y)"
      ]
    },
    {
      "cell_type": "markdown",
      "metadata": {},
      "source": [
        "### 练习时间！\n",
        "\n",
        "现在轮到你了！创建一个变量，然后使用自增和自减操作来改变它的值。"
      ]
    },
    {
      "cell_type": "code",
      "execution_count": null,
      "metadata": {},
      "outputs": [],
      "source": [
        "# 创建一个变量\n",
        "score = 100\n",
        "\n",
        "# 增加5分\n",
        "score += 5\n",
        "\n",
        "# 减少10分\n",
        "score -= 10\n",
        "\n",
        "# 打印最终分数\n",
        "print(score)"
      ]
    },
    {
      "cell_type": "markdown",
      "metadata": {},
      "source": [
        "## 4. 常见的数学函数\n",
        "\n",
        "Python提供了许多内置的数学函数，让我们可以更方便地进行各种数学计算。\n",
        "\n",
        "下面是一些常见的数学函数："
      ]
    },
    {
      "cell_type": "code",
      "execution_count": null,
      "metadata": {},
      "outputs": [],
      "source": [
        "# 绝对值\n",
        "print(abs(-5))\n",
        "\n",
        "# 最大值\n",
        "print(max(3, 7, 2))\n",
        "\n",
        "# 最小值\n",
        "print(min(3, 7, 2))\n",
        "\n",
        "# 四舍五入\n",
        "print(round(3.14159, 2))\n",
        "\n",
        "# 向上取整\n",
        "import math\n",
        "print(math.ceil(3.2))\n",
        "\n",
        "# 向下取整\n",
        "print(math.floor(3.9))\n",
        "\n",
        "# 平方根\n",
        "print(math.sqrt(16))\n",
        "\n",
        "# π的值\n",
        "print(math.pi)"
      ]
    },
    {
      "cell_type": "markdown",
      "metadata": {},
      "source": [
        "### 挑战！\n",
        "\n",
        "计算一个半径为5的圆的面积和周长，然后打印出结果。\n",
        "\n",
        "提示：圆的面积公式是 πr²，周长公式是 2πr。"
      ]
    },
    {
      "cell_type": "code",
      "execution_count": null,
      "metadata": {},
      "outputs": [],
      "source": [
        "import math\n",
        "\n",
        "# 定义半径\n",
        "radius = 5\n",
        "\n",
        "# 计算面积\n",
        "area = math.pi * radius ** 2\n",
        "\n",
        "# 计算周长\n",
        "circumference = 2 * math.pi * radius\n",
        "\n",
        "# 打印结果\n",
        "print(\"圆的面积是：\", area)\n",
        "print(\"圆的周长是：\", circumference)"
      ]
    },
    {
      "cell_type": "markdown",
      "metadata": {},
      "source": [
        "# 恭喜你完成了今天的学习！\n",
        "\n",
        "你已经学习了Python中的基本数学运算、运算优先级、变量自增自减操作和常见的数学函数。\n",
        "\n",
        "继续练习，你会越来越熟练的！"
      ]
    }
  ],
  "metadata": {
    "kernelspec": {
      "display_name": "Python 3",
      "language": "python",
      "name": "python3"
    },
    "language_info": {
      "codemirror_mode": {
        "name": "ipython",
        "version": 3
      },
      "file_extension": ".py",
      "mimetype": "text/x-python",
      "name": "python",
      "nbconvert_exporter": "python",
      "pygments_lexer": "ipython3",
      "version": "3.8.5"
    }
  },
  "nbformat": 4,
  "nbformat_minor": 4
}