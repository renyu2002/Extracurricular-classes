{
  "cells": [
    {
      "cell_type": "markdown",
      "metadata": {},
      "source": [
        "# 欢迎学习Python输入函数！\n",
        "\n",
        "今天我们将学习input()函数的使用方法、实例练习及注意事项。\n",
        "\n",
        "让我们开始吧！"
      ]
    },
    {
      "cell_type": "markdown",
      "metadata": {},
      "source": [
        "## 1. input()函数的使用方法\n",
        "\n",
        "`input()`函数是Python中用于从用户那里获取输入的内置函数。\n",
        "\n",
        "### 基本语法：\n",
        "```python\n",
        "变量名 = input(提示信息)\n",
        "```\n",
        "\n",
        "- **提示信息**：是一个字符串，会显示在屏幕上，告诉用户需要输入什么\n",
        "- **返回值**：用户输入的内容会被作为字符串返回，并可以存储在变量中\n",
        "\n",
        "让我们看一个简单的例子："
      ]
    },
    {
      "cell_type": "code",
      "execution_count": null,
      "metadata": {},
      "outputs": [],
      "source": [
        "# 获取用户的姓名\n",
        "name = input(\"请输入你的姓名：\")\n",
        "\n",
        "# 打印欢迎信息\n",
        "print(\"你好，\", name, \"！欢迎学习Python！\")"
      ]
    },
    {
      "cell_type": "markdown",
      "metadata": {},
      "source": [
        "### 试一试！\n",
        "\n",
        "在下面的代码单元格中，编写一个程序：\n",
        "1. 使用`input()`函数获取用户的年龄\n",
        "2. 将年龄存储在变量中\n",
        "3. 打印出类似这样的信息：\"你今年XX岁了！\""
      ]
    },
    {
      "cell_type": "code",
      "execution_count": null,
      "metadata": {},
      "outputs": [],
      "source": [
        "# 在这里编写你的代码\n",
        "age = input(\"请输入你的年龄：\")\n",
        "print(\"你今年\", age, \"岁了！\")"
      ]
    },
    {
      "cell_type": "markdown",
      "metadata": {},
      "source": [
        "## 2. input()函数实例练习\n",
        "\n",
        "### 实例1：计算两个数的和\n",
        "编写一个程序，获取用户输入的两个数字，然后计算它们的和并输出。"
      ]
    },
    {
      "cell_type": "code",
      "execution_count": null,
      "metadata": {},
      "outputs": [],
      "source": [
        "# 获取用户输入的两个数字\n",
        "num1 = input(\"请输入第一个数字：\")\n",
        "num2 = input(\"请输入第二个数字：\")\n",
        "\n",
        "# 注意：input()返回的是字符串，需要先转换为数字才能进行加法运算\n",
        "sum_result = float(num1) + float(num2)\n",
        "\n",
        "# 打印结果\n",
        "print(\"两数之和是：\", sum_result)"
      ]
    },
    {
      "cell_type": "markdown",
      "metadata": {},
      "source": [
        "### 实例2：计算长方形的面积\n",
        "编写一个程序，获取用户输入的长方形的长和宽，然后计算并输出面积。"
      ]
    },
    {
      "cell_type": "code",
      "execution_count": null,
      "metadata": {},
      "outputs": [],
      "source": [
        "# 获取用户输入的长和宽\n",
        "length = input(\"请输入长方形的长：\")\n",
        "width = input(\"请输入长方形的宽：\")\n",
        "\n",
        "# 计算面积\n",
        "area = float(length) * float(width)\n",
        "\n",
        "# 打印结果\n",
        "print(\"长方形的面积是：\", area)"
      ]
    },
    {
      "cell_type": "markdown",
      "metadata": {},
      "source": [
        "### 实例3：判断奇偶数\n",
        "编写一个程序，获取用户输入的一个整数，然后判断它是奇数还是偶数，并输出结果。"
      ]
    },
    {
      "cell_type": "code",
      "execution_count": null,
      "metadata": {},
      "outputs": [],
      "source": [
        "# 获取用户输入的整数\n",
        "number = input(\"请输入一个整数：\")\n",
        "\n",
        "# 将输入转换为整数\n",
        "number = int(number)\n",
        "\n",
        "# 判断奇偶性\n",
        "if number % 2 == 0:\n",
        "    print(number, \"是偶数。\")\n",
        "else:\n",
        "    print(number, \"是奇数。\")"
      ]
    },
    {
      "cell_type": "markdown",
      "metadata": {},
      "source": [
        "## 3. input()函数使用注意事项\n",
        "\n",
        "### 注意事项1：input()返回的是字符串\n",
        "无论用户输入的是数字还是文本，`input()`函数返回的都是字符串类型。\n",
        "如果需要进行数值计算，必须先将字符串转换为数字类型。"
      ]
    },
    {
      "cell_type": "code",
      "execution_count": null,
      "metadata": {},
      "outputs": [],
      "source": [
        "# 错误示例（直接拼接字符串）\n",
        "num1 = input(\"请输入第一个数字：\")\n",
        "num2 = input(\"请输入第二个数字：\")\n",
        "print(\"错误的结果：\", num1 + num2)  # 这里会将两个字符串拼接在一起\n",
        "\n",
        "# 正确示例（先转换为数字再计算）\n",
        "num1 = float(input(\"请输入第一个数字：\"))\n",
        "num2 = float(input(\"请输入第二个数字：\"))\n",
        "print(\"正确的结果：\", num1 + num2)"
      ]
    },
    {
      "cell_type": "markdown",
      "metadata": {},
      "source": [
        "### 注意事项2：输入验证\n",
        "当需要用户输入特定类型的数据时，应该进行输入验证，确保程序不会因为非法输入而崩溃。"
      ]
    },
    {
      "cell_type": "code",
      "execution_count": null,
      "metadata": {},
      "outputs": [],
      "source": [
        "# 输入验证示例\n",
        "while True:\n",
        "    try:\n",
        "        age = int(input(\"请输入你的年龄（整数）：\"))\n",
        "        break  # 如果输入成功转换为整数，跳出循环\n",
        "    except ValueError:\n",
        "        print(\"输入无效，请输入一个整数！\")\n",
        "\n",
        "print(\"你的年龄是：\", age)"
      ]
    },
    {
      "cell_type": "markdown",
      "metadata": {},
      "source": [
        "### 注意事项3：中文输入问题\n",
        "如果在输入提示中使用中文，确保你的代码文件以UTF-8编码保存，否则可能会出现乱码。"
      ]
    },
    {
      "cell_type": "markdown",
      "metadata": {},
      "source": [
        "### 挑战！\n",
        "\n",
        "编写一个程序，完成以下任务：\n",
        "1. 提示用户输入他/她的姓名、年龄和最喜欢的颜色\n",
        "2. 获取这三个输入并存储在变量中\n",
        "3. 使用这三个变量创建一个句子，例如：\"你好，我叫小明，今年13岁，我最喜欢的颜色是蓝色。\"\n",
        "4. 打印这个句子"
      ]
    },
    {
      "cell_type": "code",
      "execution_count": null,
      "metadata": {},
      "outputs": [],
      "source": [
        "# 在这里编写你的代码\n",
        "name = input(\"请输入你的姓名：\")\n",
        "age = input(\"请输入你的年龄：\")\n",
        "color = input(\"请输入你最喜欢的颜色：\")\n",
        "\n",
        "sentence = \"你好，我叫\" + name + \"，今年\" + age + \"岁，我最喜欢的颜色是\" + color + \"。\"\n",
        "\n",
        "print(sentence)"
      ]
    },
    {
      "cell_type": "markdown",
      "metadata": {},
      "source": [
        "# 恭喜你完成了今天的学习！\n",
        "\n",
        "你已经学习了input()函数的使用方法、实例练习及注意事项。\n",
        "\n",
        "继续练习，你会越来越熟练的！"
      ]
    }
  ],
  "metadata": {
    "kernelspec": {
      "display_name": "Python 3",
      "language": "python",
      "name": "python3"
    },
    "language_info": {
      "codemirror_mode": {
        "name": "ipython",
        "version": 3
      },
      "file_extension": ".py",
      "mimetype": "text/x-python",
      "name": "python",
      "nbconvert_exporter": "python",
      "pygments_lexer": "ipython3",
      "version": "3.8.5"
    }
  },
  "nbformat": 4,
  "nbformat_minor": 4
}