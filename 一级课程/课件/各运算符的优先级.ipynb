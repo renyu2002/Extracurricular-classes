{
  "cells": [
    {
      "cell_type": "markdown",
      "metadata": {},
      "source": [
        "# 欢迎学习Python运算符与条件语句！\n",
        "\n",
        "今天我们将学习运算符的优先级、多重if条件语句及实例练习。\n",
        "\n",
        "让我们开始吧！"
      ]
    },
    {
      "cell_type": "markdown",
      "metadata": {},
      "source": [
        "## 1. 运算符的优先级\n",
        "\n",
        "在Python中，运算符的优先级决定了表达式中运算的执行顺序。\n",
        "这和我们在数学中学习的\"先乘除后加减\"是一样的道理。\n",
        "\n",
        "### 常见运算符的优先级（从高到低）：\n",
        "1. 括号 `()`\n",
        "2. 幂运算 `**`\n",
        "3. 正负号 `+x`, `-x`\n",
        "4. 乘法 `*`, 除法 `/`, 取余 `%`, 整除 `//`\n",
        "5. 加法 `+`, 减法 `-`\n",
        "6. 比较运算符 `==`, `!=`, `>`, `<`, `>=`, `<=`\n",
        "7. 逻辑非 `not`\n",
        "8. 逻辑与 `and`\n",
        "9. 逻辑或 `or`\n",
        "\n",
        "让我们看一些例子："
      ]
    },
    {
      "cell_type": "code",
      "execution_count": null,
      "metadata": {},
      "outputs": [],
      "source": [
        "# 括号优先\n",
        "print((2 + 3) * 4)  # 先算括号内的加法，再算乘法，结果是20\n",
        "\n",
        "# 幂运算优先\n",
        "print(2 + 3 ** 2)  # 先算幂运算，再算加法，结果是11\n",
        "\n",
        "# 乘法优先于加法\n",
        "print(2 + 3 * 4)  # 先算乘法，再算加法，结果是14\n",
        "\n",
        "# 逻辑非优先于逻辑与\n",
        "print(not True and False)  # 先算not True，再算and，结果是False"
      ]
    },
    {
      "cell_type": "markdown",
      "metadata": {},
      "source": [
        "### 试一试！\n",
        "\n",
        "计算下面表达式的结果，然后在代码单元格中验证：\n",
        "1. `5 + 3 * 2 ** 2 - 7 / 2`\n",
        "2. `(5 + 3) * 2 ** (2 - 7)`"
      ]
    },
    {
      "cell_type": "code",
      "execution_count": null,
      "metadata": {},
      "outputs": [],
      "source": [
        "# 计算并打印结果\n",
        "print(5 + 3 * 2 ** 2 - 7 / 2)\n",
        "print((5 + 3) * 2 ** (2 - 7))"
      ]
    },
    {
      "cell_type": "markdown",
      "metadata": {},
      "source": [
        "## 2. 多重if条件语句\n",
        "\n",
        "当需要检查多个条件时，可以使用多重if条件语句。\n",
        "\n",
        "### 基本语法：\n",
        "```python\n",
        "if 条件1:\n",
        "    # 条件1为True时执行的代码\n",
        "elif 条件2:\n",
        "    # 条件1为False但条件2为True时执行的代码\n",
        "elif 条件3:\n",
        "    # 条件1和条件2都为False但条件3为True时执行的代码\n",
        "...\n",
        "else:\n",
        "    # 所有条件都为False时执行的代码\n",
        "```\n",
        "\n",
        "让我们看一些例子："
      ]
    },
    {
      "cell_type": "code",
      "execution_count": null,
      "metadata": {},
      "outputs": [],
      "source": [
        "# 根据分数判断等级\n",
        "score = 85\n",
        "\n",
        "if score >= 90:\n",
        "    print(\"优秀\")\n",
        "elif score >= 80:\n",
        "    print(\"良好\")\n",
        "elif score >= 70:\n",
        "    print(\"中等\")\n",
        "elif score >= 60:\n",
        "    print(\"及格\")\n",
        "else:\n",
        "    print(\"不及格\")\n",
        "\n",
        "# 判断数字的正负和零\n",
        "number = -5\n",
        "\n",
        "if number > 0:\n",
        "    print(\"正数\")\n",
        "elif number < 0:\n",
        "    print(\"负数\")\n",
        "else:\n",
        "    print(\"零\")"
      ]
    },
    {
      "cell_type": "markdown",
      "metadata": {},
      "source": [
        "### 思考一下！\n",
        "\n",
        "下面的代码会输出什么？先自己想一想，然后在代码单元格中运行看看。\n",
        "\n",
        "```python\n",
        "x = 10\n",
        "if x > 5:\n",
        "    print(\"A\")\n",
        "elif x > 8:\n",
        "    print(\"B\")\n",
        "else:\n",
        "    print(\"C\")\n",
        "```"
      ]
    },
    {
      "cell_type": "code",
      "execution_count": null,
      "metadata": {},
      "outputs": [],
      "source": [
        "# 运行这段代码，看看输出结果\n",
        "x = 10\n",
        "if x > 5:\n",
        "    print(\"A\")\n",
        "elif x > 8:\n",
        "    print(\"B\")\n",
        "else:\n",
        "    print(\"C\")"
      ]
    },
    {
      "cell_type": "markdown",
      "metadata": {},
      "source": [
        "## 3. 实例练习\n",
        "\n",
        "### 练习1：判断季节\n",
        "编写一个程序，根据用户输入的月份判断所属的季节。"
      ]
    },
    {
      "cell_type": "code",
      "execution_count": null,
      "metadata": {},
      "outputs": [],
      "source": [
        "# 获取用户输入\n",
        "month = int(input(\"请输入月份（1-12）：\"))\n",
        "\n",
        "# 判断季节\n",
        "if 3 <= month <= 5:\n",
        "    print(\"春季\")\n",
        "elif 6 <= month <= 8:\n",
        "    print(\"夏季\")\n",
        "elif 9 <= month <= 11:\n",
        "    print(\"秋季\")\n",
        "else:\n",
        "    print(\"冬季\")"
      ]
    },
    {
      "cell_type": "markdown",
      "metadata": {},
      "source": [
        "### 练习2：计算BMI指数\n",
        "编写一个程序，根据用户输入的体重（kg）和身高（m）计算BMI指数，并给出相应的健康建议。\n",
        "\n",
        "BMI计算公式：BMI = 体重 / (身高²)\n",
        "\n",
        "健康建议：\n",
        "- BMI < 18.5：体重过轻\n",
        "- 18.5 <= BMI < 24：正常范围\n",
        "- 24 <= BMI < 28：超重\n",
        "- BMI >= 28：肥胖"
      ]
    },
    {
      "cell_type": "code",
      "execution_count": null,
      "metadata": {},
      "outputs": [],
      "source": [
        "# 获取用户输入\n",
        "weight = float(input(\"请输入你的体重（kg）：\"))\n",
        "height = float(input(\"请输入你的身高（m）：\"))\n",
        "\n",
        "# 计算BMI指数\n",
        "bmi = weight / (height ** 2)\n",
        "\n",
        "# 显示结果\n",
        "print(f\"你的BMI指数是：{bmi:.2f}\")\n",
        "\n",
        "# 根据BMI给出建议\n",
        "if bmi < 18.5:\n",
        "    print(\"体重过轻，建议增加营养。\")\n",
        "elif bmi < 24:\n",
        "    print(\"正常范围，继续保持。\")\n",
        "elif bmi < 28:\n",
        "    print(\"超重，建议适当运动。\")\n",
        "else:\n",
        "    print(\"肥胖，建议控制饮食并加强运动。\")"
      ]
    },
    {
      "cell_type": "markdown",
      "metadata": {},
      "source": [
        "### 挑战！\n",
        "\n",
        "编写一个程序，判断用户输入的年份和月份，然后输出该月有多少天。\n",
        "\n",
        "提示：\n",
        "- 2月在闰年有29天，平年有28天\n",
        "- 闰年的判断规则：能被4整除但不能被100整除，或者能被400整除"
      ]
    },
    {
      "cell_type": "code",
      "execution_count": null,
      "metadata": {},
      "outputs": [],
      "source": [
        "# 获取用户输入\n",
        "year = int(input(\"请输入年份：\"))\n",
        "month = int(input(\"请输入月份：\"))\n",
        "\n",
        "# 判断该月的天数\n",
        "if month in [1, 3, 5, 7, 8, 10, 12]:\n",
        "    days = 31\n",
        "elif month in [4, 6, 9, 11]:\n",
        "    days = 30\n",
        "else:\n",
        "    # 判断闰年\n",
        "    if (year % 4 == 0 and year % 100 != 0) or (year % 400 == 0):\n",
        "        days = 29\n",
        "    else:\n",
        "        days = 28\n",
        "\n",
        "# 输出结果\n",
        "print(f\"{year}年{month}月有{days}天。\")"
      ]
    },
    {
      "cell_type": "markdown",
      "metadata": {},
      "source": [
        "# 恭喜你完成了今天的学习！\n",
        "\n",
        "你已经学习了Python中的运算符优先级、多重if条件语句及实例练习。\n",
        "\n",
        "继续练习，你会越来越熟练的！"
      ]
    }
  ],
  "metadata": {
    "kernelspec": {
      "display_name": "Python 3",
      "language": "python",
      "name": "python3"
    },
    "language_info": {
      "codemirror_mode": {
        "name": "ipython",
        "version": 3
      },
      "file_extension": ".py",
      "mimetype": "text/x-python",
      "name": "python",
      "nbconvert_exporter": "python",
      "pygments_lexer": "ipython3",
      "version": "3.8.5"
    }
  },
  "nbformat": 4,
  "nbformat_minor": 4
}