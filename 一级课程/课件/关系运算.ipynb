{
  "cells": [
    {
      "cell_type": "markdown",
      "metadata": {},
      "source": [
        "# 欢迎学习Python布尔逻辑！\n",
        "\n",
        "今天我们将学习布尔数据类型、关系运算符和ASCII码。\n",
        "\n",
        "让我们开始吧！"
      ]
    },
    {
      "cell_type": "markdown",
      "metadata": {},
      "source": [
        "## 1. bool(布尔)数据类型\n",
        "\n",
        "在Python中，布尔(Boolean)数据类型只有两个值：`True`（真）和`False`（假）。\n",
        "\n",
        "布尔值通常用于条件判断，比如在if语句中。\n",
        "\n",
        "让我们看一些例子："
      ]
    },
    {
      "cell_type": "code",
      "execution_count": null,
      "metadata": {},
      "outputs": [],
      "source": [
        "# 定义布尔变量\n",
        "is_raining = True\n",
        "has_finished_homework = False\n",
        "\n",
        "# 打印布尔变量\n",
        "print(is_raining)\n",
        "print(has_finished_homework)\n",
        "\n",
        "# 查看布尔值的类型\n",
        "print(type(is_raining))\n",
        "print(type(has_finished_homework))"
      ]
    },
    {
      "cell_type": "markdown",
      "metadata": {},
      "source": [
        "### 试一试！\n",
        "\n",
        "在下面的代码单元格中，创建两个布尔变量：\n",
        "1. 一个表示你是否喜欢编程\n",
        "2. 另一个表示你是否已经完成了今天的作业\n",
        "然后打印这两个变量。"
      ]
    },
    {
      "cell_type": "code",
      "execution_count": null,
      "metadata": {},
      "outputs": [],
      "source": [
        "# 在这里创建并打印你的布尔变量\n",
        "# 例如：\n",
        "# likes_programming = True\n",
        "# has_finished_homework = False\n",
        "# print(likes_programming, has_finished_homework)"
      ]
    },
    {
      "cell_type": "markdown",
      "metadata": {},
      "source": [
        "## 2. 关系运算符\n",
        "\n",
        "关系运算符用于比较两个值之间的关系，返回的结果是布尔值（True或False）。\n",
        "\n",
        "### 常见的关系运算符：\n",
        "- 等于：`==`\n",
        "- 不等于：`!=`\n",
        "- 大于：`>`\n",
        "- 小于：`<`\n",
        "- 大于等于：`>=`\n",
        "- 小于等于：`<=`\n",
        "\n",
        "让我们看一些例子："
      ]
    },
    {
      "cell_type": "code",
      "execution_count": null,
      "metadata": {},
      "outputs": [],
      "source": [
        "# 等于比较\n",
        "print(5 == 3)       # False\n",
        "print(10 == 10)     # True\n",
        "\n",
        "# 不等于比较\n",
        "print(5 != 3)       # True\n",
        "print(10 != 10)     # False\n",
        "\n",
        "# 大于和小于比较\n",
        "print(7 > 5)        # True\n",
        "print(7 < 5)        # False\n",
        "\n",
        "# 大于等于和小于等于比较\n",
        "print(7 >= 7)       # True\n",
        "print(7 <= 5)       # False\n",
        "\n",
        "# 字符串比较（按字典顺序）\n",
        "print(\"apple\" == \"apple\")  # True\n",
        "print(\"apple\" < \"banana\")  # True"
      ]
    },
    {
      "cell_type": "markdown",
      "metadata": {},
      "source": [
        "### 思考一下！\n",
        "\n",
        "下面的表达式会计算出什么结果？先自己想一想，然后在代码单元格中运行看看。\n",
        "\n",
        "```python\n",
        "print(10 > 5 and 7 < 3)\n",
        "print(\"hello\" != \"world\" or 5 == 5)\n",
        "print(not (4 <= 4))\n",
        "```"
      ]
    },
    {
      "cell_type": "code",
      "execution_count": null,
      "metadata": {},
      "outputs": [],
      "source": [
        "# 运行这段代码，看看输出结果\n",
        "print(10 > 5 and 7 < 3)\n",
        "print(\"hello\" != \"world\" or 5 == 5)\n",
        "print(not (4 <= 4))"
      ]
    },
    {
      "cell_type": "markdown",
      "metadata": {},
      "source": [
        "## 3. 了解ASCII码\n",
        "\n",
        "ASCII码（American Standard Code for Information Interchange）是一种用于表示字符的标准编码系统。\n",
        "\n",
        "### 关键点：\n",
        "- ASCII码使用7位二进制数（0-127）来表示128个不同的字符\n",
        "- 包括英文字母（大写和小写）、数字（0-9）和各种符号\n",
        "- 每个字符都对应一个唯一的数字\n",
        "\n",
        "在Python中，我们可以使用以下函数来处理ASCII码：\n",
        "- `ord()`：获取字符的ASCII码值\n",
        "- `chr()`：根据ASCII码值获取对应的字符"
      ]
    },
    {
      "cell_type": "code",
      "execution_count": null,
      "metadata": {},
      "outputs": [],
      "source": [
        "# 获取字符的ASCII码值\n",
        "print(\"A的ASCII码值是：\", ord(\"A\"))\n",
        "print(\"a的ASCII码值是：\", ord(\"a\"))\n",
        "print(\"0的ASCII码值是：\", ord(\"0\"))\n",
        "print(\"空格的ASCII码值是：\", ord(\" \"))\n",
        "\n",
        "# 根据ASCII码值获取字符\n",
        "print(\"65对应的字符是：\", chr(65))\n",
        "print(\"97对应的字符是：\", chr(97))\n",
        "print(\"48对应的字符是：\", chr(48))\n",
        "\n",
        "# 比较字符的大小（基于ASCII码值）\n",
        "print(\"A\" < \"a\")  # True，因为65 < 97"
      ]
    },
    {
      "cell_type": "markdown",
      "metadata": {},
      "source": [
        "### ASCII码表部分示例：\n",
        "| 字符 | ASCII码值 |\n",
        "|------|-----------|\n",
        "| A    | 65        |\n",
        "| B    | 66        |\n",
        "| ...  | ...       |\n",
        "| a    | 97        |\n",
        "| b    | 98        |\n",
        "| ...  | ...       |\n",
        "| 0    | 48        |\n",
        "| 1    | 49        |\n",
        "| ...  | ...       |"
      ]
    },
    {
      "cell_type": "markdown",
      "metadata": {},
      "source": [
        "### 练习时间！\n",
        "\n",
        "编写一个程序，完成以下任务：\n",
        "1. 获取用户输入的一个字符\n",
        "2. 打印该字符的ASCII码值\n",
        "3. 打印比该字符的ASCII码值大1的字符"
      ]
    },
    {
      "cell_type": "code",
      "execution_count": null,
      "metadata": {},
      "outputs": [],
      "source": [
        "# 获取用户输入的字符\n",
        "char = input(\"请输入一个字符：\")\n",
        "\n",
        "# 获取该字符的ASCII码值\n",
        "ascii_value = ord(char)\n",
        "\n",
        "# 计算比该ASCII码值大1的值\n",
        "next_ascii_value = ascii_value + 1\n",
        "\n",
        "# 获取对应的字符\n",
        "next_char = chr(next_ascii_value)\n",
        "\n",
        "# 打印结果\n",
        "print(char, \"的ASCII码值是：\", ascii_value)\n",
        "print(\"比它大1的字符是：\", next_char)"
      ]
    },
    {
      "cell_type": "markdown",
      "metadata": {},
      "source": [
        "### 挑战！\n",
        "\n",
        "编写一个程序，判断用户输入的字符是大写字母、小写字母、数字还是其他字符。\n",
        "\n",
        "提示：\n",
        "- 大写字母的ASCII码范围是65-90\n",
        "- 小写字母的ASCII码范围是97-122\n",
        "- 数字的ASCII码范围是48-57"
      ]
    },
    {
      "cell_type": "code",
      "execution_count": null,
      "metadata": {},
      "outputs": [],
      "source": [
        "# 获取用户输入的字符\n",
        "char = input(\"请输入一个字符：\")\n",
        "\n",
        "# 获取该字符的ASCII码值\n",
        "ascii_value = ord(char)\n",
        "\n",
        "# 判断字符类型\n",
        "if 65 <= ascii_value <= 90:\n",
        "    print(char, \"是大写字母。\")\n",
        "elif 97 <= ascii_value <= 122:\n",
        "    print(char, \"是小写字母。\")\n",
        "elif 48 <= ascii_value <= 57:\n",
        "    print(char, \"是数字。\")\n",
        "else:\n",
        "    print(char, \"是其他字符。\")"
      ]
    },
    {
      "cell_type": "markdown",
      "metadata": {},
      "source": [
        "# 恭喜你完成了今天的学习！\n",
        "\n",
        "你已经学习了Python中的布尔数据类型、关系运算符和ASCII码。\n",
        "\n",
        "继续练习，你会越来越熟练的！"
      ]
    }
  ],
  "metadata": {
    "kernelspec": {
      "display_name": "Python 3",
      "language": "python",
      "name": "python3"
    },
    "language_info": {
      "codemirror_mode": {
        "name": "ipython",
        "version": 3
      },
      "file_extension": ".py",
      "mimetype": "text/x-python",
      "name": "python",
      "nbconvert_exporter": "python",
      "pygments_lexer": "ipython3",
      "version": "3.8.5"
    }
  },
  "nbformat": 4,
  "nbformat_minor": 4
}