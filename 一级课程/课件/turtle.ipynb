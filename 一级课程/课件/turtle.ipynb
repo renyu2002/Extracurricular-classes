{
 "cells": [
  {
   "cell_type": "markdown",
   "metadata": {},
   "source": [
    "# Python Turtle库入门教程\n",
    "\n",
    "Turtle库是Python内置的一个简单图形绘制库，特别适合初学者学习编程和图形绘制。它模拟了一个小海龟在画布上移动并绘制图形的过程，非常直观和有趣。\n",
    "\n",
    "本教程将介绍Turtle库的基本功能和命令，并通过实例帮助您理解和掌握这些功能。"
   ]
  },
  {
   "cell_type": "markdown",
   "metadata": {},
   "source": [
    "## 1. 导入Turtle库\n",
    "\n",
    "在使用Turtle库之前，我们需要先导入它。有几种导入方式，下面是最常用的两种："
   ]
  },
  {
   "cell_type": "code",
   "metadata": {},
   "source": [
    "# 方式1：导入整个turtle模块\n",
    "import turtle"
   ],
   "outputs": [],
   "execution_count": null
  },
  {
   "metadata": {},
   "cell_type": "code",
   "outputs": [],
   "execution_count": null,
   "source": [
    "# 方式2：导入turtle模块中的所有函数和类\n",
    "from turtle import *"
   ]
  },
  {
   "metadata": {},
   "cell_type": "markdown",
   "source": "在本教程中，我们将使用第二种方式，这样可以直接调用turtle的函数而不需要使用turtle前缀"
  },
  {
   "cell_type": "markdown",
   "metadata": {},
   "source": [
    "## 2. 画布设置\n",
    "\n",
    "在绘制图形之前，我们需要设置画布的大小、背景颜色等属性。"
   ]
  },
  {
   "cell_type": "code",
   "metadata": {},
   "source": [
    "# 设置画布大小\n",
    "setup(800, 600)"
   ],
   "outputs": [],
   "execution_count": null
  },
  {
   "metadata": {},
   "cell_type": "code",
   "outputs": [],
   "execution_count": null,
   "source": [
    "# 设置画布背景颜色\n",
    "bgcolor('white')"
   ]
  },
  {
   "metadata": {},
   "cell_type": "code",
   "outputs": [],
   "execution_count": null,
   "source": [
    "# 设置画布标题\n",
    "title('Turtle绘图示例')"
   ]
  },
  {
   "metadata": {},
   "cell_type": "code",
   "outputs": [],
   "execution_count": null,
   "source": [
    "# 清除画布\n",
    "clear()"
   ]
  },
  {
   "metadata": {},
   "cell_type": "code",
   "outputs": [],
   "execution_count": null,
   "source": [
    "# 重置画布和海龟位置\n",
    "reset()"
   ]
  },
  {
   "metadata": {
    "ExecuteTime": {
     "end_time": "2025-05-24T07:33:24.547774Z",
     "start_time": "2025-05-24T07:33:24.368540Z"
    }
   },
   "cell_type": "code",
   "source": [
    "# 示例：创建一个蓝色背景的画布\n",
    "from turtle import *\n",
    "setup(600, 400)\n",
    "bgcolor('lightblue')\n",
    "title('蓝色背景画布')"
   ],
   "outputs": [],
   "execution_count": 1
  },
  {
   "cell_type": "markdown",
   "metadata": {},
   "source": [
    "## 3. 画笔设置\n",
    "\n",
    "画笔是我们绘制图形的工具，我们可以设置画笔的颜色、粗细、形状等属性。"
   ]
  },
  {
   "cell_type": "code",
   "metadata": {
    "ExecuteTime": {
     "end_time": "2025-05-24T05:40:18.251201Z",
     "start_time": "2025-05-24T05:40:18.173391Z"
    }
   },
   "source": [
    "# 设置画笔颜色\n",
    "color('red')"
   ],
   "outputs": [
    {
     "ename": "TurtleGraphicsError",
     "evalue": "bad color string: red",
     "output_type": "error",
     "traceback": [
      "\u001B[31m---------------------------------------------------------------------------\u001B[39m",
      "\u001B[31mTurtleGraphicsError\u001B[39m                       Traceback (most recent call last)",
      "\u001B[36mCell\u001B[39m\u001B[36m \u001B[39m\u001B[32mIn[12]\u001B[39m\u001B[32m, line 2\u001B[39m\n\u001B[32m      1\u001B[39m \u001B[38;5;66;03m# 设置画笔颜色\u001B[39;00m\n\u001B[32m----> \u001B[39m\u001B[32m2\u001B[39m \u001B[43mcolor\u001B[49m\u001B[43m(\u001B[49m\u001B[33;43m'\u001B[39;49m\u001B[33;43mred\u001B[39;49m\u001B[33;43m'\u001B[39;49m\u001B[43m)\u001B[49m\n",
      "\u001B[36mFile \u001B[39m\u001B[32m<string>:8\u001B[39m, in \u001B[36mcolor\u001B[39m\u001B[34m(*args)\u001B[39m\n",
      "\u001B[36mFile \u001B[39m\u001B[32m~\\AppData\\Local\\Programs\\Python\\Python312\\Lib\\turtle.py:2215\u001B[39m, in \u001B[36mTPen.color\u001B[39m\u001B[34m(self, *args)\u001B[39m\n\u001B[32m   2213\u001B[39m \u001B[38;5;28;01melif\u001B[39;00m l == \u001B[32m3\u001B[39m:\n\u001B[32m   2214\u001B[39m     pcolor = fcolor = args\n\u001B[32m-> \u001B[39m\u001B[32m2215\u001B[39m pcolor = \u001B[38;5;28;43mself\u001B[39;49m\u001B[43m.\u001B[49m\u001B[43m_colorstr\u001B[49m\u001B[43m(\u001B[49m\u001B[43mpcolor\u001B[49m\u001B[43m)\u001B[49m\n\u001B[32m   2216\u001B[39m fcolor = \u001B[38;5;28mself\u001B[39m._colorstr(fcolor)\n\u001B[32m   2217\u001B[39m \u001B[38;5;28mself\u001B[39m.pen(pencolor=pcolor, fillcolor=fcolor)\n",
      "\u001B[36mFile \u001B[39m\u001B[32m~\\AppData\\Local\\Programs\\Python\\Python312\\Lib\\turtle.py:2704\u001B[39m, in \u001B[36mRawTurtle._colorstr\u001B[39m\u001B[34m(self, args)\u001B[39m\n\u001B[32m   2703\u001B[39m \u001B[38;5;28;01mdef\u001B[39;00m\u001B[38;5;250m \u001B[39m\u001B[34m_colorstr\u001B[39m(\u001B[38;5;28mself\u001B[39m, args):\n\u001B[32m-> \u001B[39m\u001B[32m2704\u001B[39m     \u001B[38;5;28;01mreturn\u001B[39;00m \u001B[38;5;28;43mself\u001B[39;49m\u001B[43m.\u001B[49m\u001B[43mscreen\u001B[49m\u001B[43m.\u001B[49m\u001B[43m_colorstr\u001B[49m\u001B[43m(\u001B[49m\u001B[43margs\u001B[49m\u001B[43m)\u001B[49m\n",
      "\u001B[36mFile \u001B[39m\u001B[32m~\\AppData\\Local\\Programs\\Python\\Python312\\Lib\\turtle.py:1150\u001B[39m, in \u001B[36mTurtleScreen._colorstr\u001B[39m\u001B[34m(self, color)\u001B[39m\n\u001B[32m   1148\u001B[39m         \u001B[38;5;28;01mreturn\u001B[39;00m color\n\u001B[32m   1149\u001B[39m     \u001B[38;5;28;01melse\u001B[39;00m:\n\u001B[32m-> \u001B[39m\u001B[32m1150\u001B[39m         \u001B[38;5;28;01mraise\u001B[39;00m TurtleGraphicsError(\u001B[33m\"\u001B[39m\u001B[33mbad color string: \u001B[39m\u001B[38;5;132;01m%s\u001B[39;00m\u001B[33m\"\u001B[39m % \u001B[38;5;28mstr\u001B[39m(color))\n\u001B[32m   1151\u001B[39m \u001B[38;5;28;01mtry\u001B[39;00m:\n\u001B[32m   1152\u001B[39m     r, g, b = color\n",
      "\u001B[31mTurtleGraphicsError\u001B[39m: bad color string: red"
     ]
    }
   ],
   "execution_count": 12
  },
  {
   "metadata": {
    "ExecuteTime": {
     "end_time": "2025-05-24T05:40:21.070679Z",
     "start_time": "2025-05-24T05:40:20.953556Z"
    }
   },
   "cell_type": "code",
   "source": [
    "# 设置画笔粗细\n",
    "pensize(3)"
   ],
   "outputs": [
    {
     "ename": "TclError",
     "evalue": "invalid command name \".!canvas\"",
     "output_type": "error",
     "traceback": [
      "\u001B[31m---------------------------------------------------------------------------\u001B[39m",
      "\u001B[31mTclError\u001B[39m                                  Traceback (most recent call last)",
      "\u001B[36mCell\u001B[39m\u001B[36m \u001B[39m\u001B[32mIn[13]\u001B[39m\u001B[32m, line 2\u001B[39m\n\u001B[32m      1\u001B[39m \u001B[38;5;66;03m# 设置画笔粗细\u001B[39;00m\n\u001B[32m----> \u001B[39m\u001B[32m2\u001B[39m \u001B[43mpensize\u001B[49m\u001B[43m(\u001B[49m\u001B[32;43m3\u001B[39;49m\u001B[43m)\u001B[49m\n",
      "\u001B[36mFile \u001B[39m\u001B[32m<string>:8\u001B[39m, in \u001B[36mpensize\u001B[39m\u001B[34m(width)\u001B[39m\n",
      "\u001B[36mFile \u001B[39m\u001B[32m~\\AppData\\Local\\Programs\\Python\\Python312\\Lib\\turtle.py:2091\u001B[39m, in \u001B[36mTPen.pensize\u001B[39m\u001B[34m(self, width)\u001B[39m\n\u001B[32m   2089\u001B[39m \u001B[38;5;28;01mif\u001B[39;00m width \u001B[38;5;129;01mis\u001B[39;00m \u001B[38;5;28;01mNone\u001B[39;00m:\n\u001B[32m   2090\u001B[39m     \u001B[38;5;28;01mreturn\u001B[39;00m \u001B[38;5;28mself\u001B[39m._pensize\n\u001B[32m-> \u001B[39m\u001B[32m2091\u001B[39m \u001B[38;5;28;43mself\u001B[39;49m\u001B[43m.\u001B[49m\u001B[43mpen\u001B[49m\u001B[43m(\u001B[49m\u001B[43mpensize\u001B[49m\u001B[43m=\u001B[49m\u001B[43mwidth\u001B[49m\u001B[43m)\u001B[49m\n",
      "\u001B[36mFile \u001B[39m\u001B[32m~\\AppData\\Local\\Programs\\Python\\Python312\\Lib\\turtle.py:2433\u001B[39m, in \u001B[36mTPen.pen\u001B[39m\u001B[34m(self, pen, **pendict)\u001B[39m\n\u001B[32m   2431\u001B[39m         newLine = \u001B[38;5;28;01mTrue\u001B[39;00m\n\u001B[32m   2432\u001B[39m \u001B[38;5;28;01mif\u001B[39;00m newLine:\n\u001B[32m-> \u001B[39m\u001B[32m2433\u001B[39m     \u001B[38;5;28;43mself\u001B[39;49m\u001B[43m.\u001B[49m\u001B[43m_newLine\u001B[49m\u001B[43m(\u001B[49m\u001B[43m)\u001B[49m\n\u001B[32m   2434\u001B[39m \u001B[38;5;28;01mif\u001B[39;00m \u001B[33m\"\u001B[39m\u001B[33mpendown\u001B[39m\u001B[33m\"\u001B[39m \u001B[38;5;129;01min\u001B[39;00m p:\n\u001B[32m   2435\u001B[39m     \u001B[38;5;28mself\u001B[39m._drawing = p[\u001B[33m\"\u001B[39m\u001B[33mpendown\u001B[39m\u001B[33m\"\u001B[39m]\n",
      "\u001B[36mFile \u001B[39m\u001B[32m~\\AppData\\Local\\Programs\\Python\\Python312\\Lib\\turtle.py:3363\u001B[39m, in \u001B[36mRawTurtle._newLine\u001B[39m\u001B[34m(self, usePos)\u001B[39m\n\u001B[32m   3361\u001B[39m     \u001B[38;5;28mself\u001B[39m.items.append(\u001B[38;5;28mself\u001B[39m.currentLineItem)\n\u001B[32m   3362\u001B[39m \u001B[38;5;28;01melse\u001B[39;00m:\n\u001B[32m-> \u001B[39m\u001B[32m3363\u001B[39m     \u001B[38;5;28;43mself\u001B[39;49m\u001B[43m.\u001B[49m\u001B[43mscreen\u001B[49m\u001B[43m.\u001B[49m\u001B[43m_drawline\u001B[49m\u001B[43m(\u001B[49m\u001B[38;5;28;43mself\u001B[39;49m\u001B[43m.\u001B[49m\u001B[43mcurrentLineItem\u001B[49m\u001B[43m,\u001B[49m\u001B[43m \u001B[49m\u001B[43mtop\u001B[49m\u001B[43m=\u001B[49m\u001B[38;5;28;43;01mTrue\u001B[39;49;00m\u001B[43m)\u001B[49m\n\u001B[32m   3364\u001B[39m \u001B[38;5;28mself\u001B[39m.currentLine = []\n\u001B[32m   3365\u001B[39m \u001B[38;5;28;01mif\u001B[39;00m usePos:\n",
      "\u001B[36mFile \u001B[39m\u001B[32m~\\AppData\\Local\\Programs\\Python\\Python312\\Lib\\turtle.py:545\u001B[39m, in \u001B[36mTurtleScreenBase._drawline\u001B[39m\u001B[34m(self, lineitem, coordlist, fill, width, top)\u001B[39m\n\u001B[32m    543\u001B[39m     \u001B[38;5;28mself\u001B[39m.cv.itemconfigure(lineitem, width=width)\n\u001B[32m    544\u001B[39m \u001B[38;5;28;01mif\u001B[39;00m top:\n\u001B[32m--> \u001B[39m\u001B[32m545\u001B[39m     \u001B[38;5;28;43mself\u001B[39;49m\u001B[43m.\u001B[49m\u001B[43mcv\u001B[49m\u001B[43m.\u001B[49m\u001B[43mtag_raise\u001B[49m\u001B[43m(\u001B[49m\u001B[43mlineitem\u001B[49m\u001B[43m)\u001B[49m\n",
      "\u001B[36mFile \u001B[39m\u001B[32m<string>:1\u001B[39m, in \u001B[36mtag_raise\u001B[39m\u001B[34m(self, *args, **kw)\u001B[39m\n",
      "\u001B[36mFile \u001B[39m\u001B[32m~\\AppData\\Local\\Programs\\Python\\Python312\\Lib\\tkinter\\__init__.py:2999\u001B[39m, in \u001B[36mCanvas.tag_raise\u001B[39m\u001B[34m(self, *args)\u001B[39m\n\u001B[32m   2996\u001B[39m \u001B[38;5;28;01mdef\u001B[39;00m\u001B[38;5;250m \u001B[39m\u001B[34mtag_raise\u001B[39m(\u001B[38;5;28mself\u001B[39m, *args):\n\u001B[32m   2997\u001B[39m \u001B[38;5;250m    \u001B[39m\u001B[33;03m\"\"\"Raise an item TAGORID given in ARGS\u001B[39;00m\n\u001B[32m   2998\u001B[39m \u001B[33;03m    (optional above another item).\"\"\"\u001B[39;00m\n\u001B[32m-> \u001B[39m\u001B[32m2999\u001B[39m     \u001B[38;5;28;43mself\u001B[39;49m\u001B[43m.\u001B[49m\u001B[43mtk\u001B[49m\u001B[43m.\u001B[49m\u001B[43mcall\u001B[49m\u001B[43m(\u001B[49m\u001B[43m(\u001B[49m\u001B[38;5;28;43mself\u001B[39;49m\u001B[43m.\u001B[49m\u001B[43m_w\u001B[49m\u001B[43m,\u001B[49m\u001B[43m \u001B[49m\u001B[33;43m'\u001B[39;49m\u001B[33;43mraise\u001B[39;49m\u001B[33;43m'\u001B[39;49m\u001B[43m)\u001B[49m\u001B[43m \u001B[49m\u001B[43m+\u001B[49m\u001B[43m \u001B[49m\u001B[43margs\u001B[49m\u001B[43m)\u001B[49m\n",
      "\u001B[31mTclError\u001B[39m: invalid command name \".!canvas\""
     ]
    }
   ],
   "execution_count": 13
  },
  {
   "metadata": {},
   "cell_type": "code",
   "outputs": [],
   "execution_count": null,
   "source": [
    "# 设置画笔速度 (0-10之间，0表示最快)\n",
    "speed(5)"
   ]
  },
  {
   "metadata": {},
   "cell_type": "code",
   "outputs": [],
   "execution_count": null,
   "source": [
    "# 设置海龟形状\n",
    "shape('turtle')"
   ]
  },
  {
   "metadata": {},
   "cell_type": "code",
   "outputs": [],
   "execution_count": null,
   "source": [
    "# 隐藏海龟\n",
    "hideturtle()"
   ]
  },
  {
   "metadata": {},
   "cell_type": "code",
   "outputs": [],
   "execution_count": null,
   "source": [
    "# 显示海龟\n",
    "showturtle()"
   ]
  },
  {
   "metadata": {
    "ExecuteTime": {
     "end_time": "2025-05-24T05:43:54.521669Z",
     "start_time": "2025-05-24T05:43:54.203911Z"
    }
   },
   "cell_type": "code",
   "source": [
    "# 示例：设置一个红色、粗细为2的画笔\n",
    "from turtle import *\n",
    "\n",
    "color('red')\n",
    "pensize(2)\n",
    "speed(3)"
   ],
   "outputs": [],
   "execution_count": 1
  },
  {
   "cell_type": "markdown",
   "metadata": {},
   "source": [
    "## 4. 基本移动命令\n",
    "\n",
    "Turtle库提供了一些基本的移动命令，用于控制海龟在画布上的移动。"
   ]
  },
  {
   "cell_type": "code",
   "metadata": {},
   "source": [
    "# 前进\n",
    "forward(100)  # 向前移动100个单位"
   ],
   "outputs": [],
   "execution_count": null
  },
  {
   "metadata": {},
   "cell_type": "code",
   "outputs": [],
   "execution_count": null,
   "source": [
    "# 简写\n",
    "fd(100)       # 与forward()相同"
   ]
  },
  {
   "metadata": {},
   "cell_type": "code",
   "outputs": [],
   "execution_count": null,
   "source": [
    "# 后退\n",
    "backward(50)  # 向后移动50个单位"
   ]
  },
  {
   "metadata": {},
   "cell_type": "code",
   "outputs": [],
   "execution_count": null,
   "source": [
    "# 简写\n",
    "bk(50)        # 与backward()相同\n",
    "back(50)      # 与backward()相同"
   ]
  },
  {
   "metadata": {},
   "cell_type": "code",
   "outputs": [],
   "execution_count": null,
   "source": [
    "# 左转\n",
    "left(90)      # 向左转90度"
   ]
  },
  {
   "metadata": {},
   "cell_type": "code",
   "outputs": [],
   "execution_count": null,
   "source": [
    "# 简写\n",
    "lt(90)        # 与left()相同"
   ]
  },
  {
   "metadata": {},
   "cell_type": "code",
   "outputs": [],
   "execution_count": null,
   "source": [
    "# 右转\n",
    "right(90)     # 向右转90度"
   ]
  },
  {
   "metadata": {},
   "cell_type": "code",
   "outputs": [],
   "execution_count": null,
   "source": [
    "# 简写\n",
    "rt(90)        # 与right()相同"
   ]
  },
  {
   "metadata": {},
   "cell_type": "code",
   "source": [
    "# 示例：绘制一个简单的正方形\n",
    "from turtle import *\n",
    "\n",
    "for i in range(4):\n",
    "    forward(100)\n",
    "    right(90)"
   ],
   "outputs": [],
   "execution_count": 1
  },
  {
   "cell_type": "markdown",
   "metadata": {},
   "source": [
    "## 5. 提笔和落笔\n",
    "\n",
    "提笔和落笔命令用于控制海龟是否在移动时绘制图形。"
   ]
  },
  {
   "cell_type": "code",
   "execution_count": null,
   "metadata": {},
   "outputs": [],
   "source": [
    "# 提笔 (移动时不绘制图形)\n",
    "penup()"
   ]
  },
  {
   "metadata": {},
   "cell_type": "code",
   "outputs": [],
   "execution_count": null,
   "source": [
    "# 简写\n",
    "pu()\n",
    "up()"
   ]
  },
  {
   "metadata": {},
   "cell_type": "code",
   "outputs": [],
   "execution_count": null,
   "source": [
    "# 落笔 (移动时绘制图形)\n",
    "pendown()"
   ]
  },
  {
   "metadata": {},
   "cell_type": "code",
   "outputs": [],
   "execution_count": null,
   "source": [
    "# 简写\n",
    "pd()\n",
    "down()"
   ]
  },
  {
   "metadata": {
    "ExecuteTime": {
     "end_time": "2025-05-24T05:42:37.666342Z",
     "start_time": "2025-05-24T05:42:37.562169Z"
    }
   },
   "cell_type": "code",
   "source": [
    "# 示例：绘制一个虚线\n",
    "import turtle\n",
    "\n",
    "for i in range(20):\n",
    "    turtle.forward(10)\n",
    "    turtle.penup()\n",
    "    turtle.forward(10)\n",
    "    turtle.pendown()"
   ],
   "outputs": [
    {
     "ename": "TclError",
     "evalue": "invalid command name \".!canvas\"",
     "output_type": "error",
     "traceback": [
      "\u001B[31m---------------------------------------------------------------------------\u001B[39m",
      "\u001B[31mTclError\u001B[39m                                  Traceback (most recent call last)",
      "\u001B[36mCell\u001B[39m\u001B[36m \u001B[39m\u001B[32mIn[16]\u001B[39m\u001B[32m, line 5\u001B[39m\n\u001B[32m      2\u001B[39m \u001B[38;5;28;01mfrom\u001B[39;00m\u001B[38;5;250m \u001B[39m\u001B[34;01mturtle\u001B[39;00m\u001B[38;5;250m \u001B[39m\u001B[38;5;28;01mimport\u001B[39;00m *\n\u001B[32m      4\u001B[39m \u001B[38;5;28;01mfor\u001B[39;00m i \u001B[38;5;129;01min\u001B[39;00m \u001B[38;5;28mrange\u001B[39m(\u001B[32m20\u001B[39m):\n\u001B[32m----> \u001B[39m\u001B[32m5\u001B[39m     \u001B[43mforward\u001B[49m\u001B[43m(\u001B[49m\u001B[32;43m10\u001B[39;49m\u001B[43m)\u001B[49m\n\u001B[32m      6\u001B[39m     penup()\n\u001B[32m      7\u001B[39m     forward(\u001B[32m10\u001B[39m)\n",
      "\u001B[36mFile \u001B[39m\u001B[32m<string>:8\u001B[39m, in \u001B[36mforward\u001B[39m\u001B[34m(distance)\u001B[39m\n",
      "\u001B[36mFile \u001B[39m\u001B[32m~\\AppData\\Local\\Programs\\Python\\Python312\\Lib\\turtle.py:1636\u001B[39m, in \u001B[36mTNavigator.forward\u001B[39m\u001B[34m(self, distance)\u001B[39m\n\u001B[32m   1615\u001B[39m \u001B[38;5;28;01mdef\u001B[39;00m\u001B[38;5;250m \u001B[39m\u001B[34mforward\u001B[39m(\u001B[38;5;28mself\u001B[39m, distance):\n\u001B[32m   1616\u001B[39m \u001B[38;5;250m    \u001B[39m\u001B[33;03m\"\"\"Move the turtle forward by the specified distance.\u001B[39;00m\n\u001B[32m   1617\u001B[39m \n\u001B[32m   1618\u001B[39m \u001B[33;03m    Aliases: forward | fd\u001B[39;00m\n\u001B[32m   (...)\u001B[39m\u001B[32m   1634\u001B[39m \u001B[33;03m    (-50.00,0.00)\u001B[39;00m\n\u001B[32m   1635\u001B[39m \u001B[33;03m    \"\"\"\u001B[39;00m\n\u001B[32m-> \u001B[39m\u001B[32m1636\u001B[39m     \u001B[38;5;28;43mself\u001B[39;49m\u001B[43m.\u001B[49m\u001B[43m_go\u001B[49m\u001B[43m(\u001B[49m\u001B[43mdistance\u001B[49m\u001B[43m)\u001B[49m\n",
      "\u001B[36mFile \u001B[39m\u001B[32m~\\AppData\\Local\\Programs\\Python\\Python312\\Lib\\turtle.py:1597\u001B[39m, in \u001B[36mTNavigator._go\u001B[39m\u001B[34m(self, distance)\u001B[39m\n\u001B[32m   1595\u001B[39m \u001B[38;5;250m\u001B[39m\u001B[33;03m\"\"\"move turtle forward by specified distance\"\"\"\u001B[39;00m\n\u001B[32m   1596\u001B[39m ende = \u001B[38;5;28mself\u001B[39m._position + \u001B[38;5;28mself\u001B[39m._orient * distance\n\u001B[32m-> \u001B[39m\u001B[32m1597\u001B[39m \u001B[38;5;28;43mself\u001B[39;49m\u001B[43m.\u001B[49m\u001B[43m_goto\u001B[49m\u001B[43m(\u001B[49m\u001B[43mende\u001B[49m\u001B[43m)\u001B[49m\n",
      "\u001B[36mFile \u001B[39m\u001B[32m~\\AppData\\Local\\Programs\\Python\\Python312\\Lib\\turtle.py:3230\u001B[39m, in \u001B[36mRawTurtle._goto\u001B[39m\u001B[34m(self, end)\u001B[39m\n\u001B[32m   3222\u001B[39m go_modes = ( \u001B[38;5;28mself\u001B[39m._drawing,\n\u001B[32m   3223\u001B[39m              \u001B[38;5;28mself\u001B[39m._pencolor,\n\u001B[32m   3224\u001B[39m              \u001B[38;5;28mself\u001B[39m._pensize,\n\u001B[32m   3225\u001B[39m              \u001B[38;5;28misinstance\u001B[39m(\u001B[38;5;28mself\u001B[39m._fillpath, \u001B[38;5;28mlist\u001B[39m))\n\u001B[32m   3226\u001B[39m screen = \u001B[38;5;28mself\u001B[39m.screen\n\u001B[32m   3227\u001B[39m undo_entry = (\u001B[33m\"\u001B[39m\u001B[33mgo\u001B[39m\u001B[33m\"\u001B[39m, \u001B[38;5;28mself\u001B[39m._position, end, go_modes,\n\u001B[32m   3228\u001B[39m               (\u001B[38;5;28mself\u001B[39m.currentLineItem,\n\u001B[32m   3229\u001B[39m               \u001B[38;5;28mself\u001B[39m.currentLine[:],\n\u001B[32m-> \u001B[39m\u001B[32m3230\u001B[39m               \u001B[43mscreen\u001B[49m\u001B[43m.\u001B[49m\u001B[43m_pointlist\u001B[49m\u001B[43m(\u001B[49m\u001B[38;5;28;43mself\u001B[39;49m\u001B[43m.\u001B[49m\u001B[43mcurrentLineItem\u001B[49m\u001B[43m)\u001B[49m,\n\u001B[32m   3231\u001B[39m               \u001B[38;5;28mself\u001B[39m.items[:])\n\u001B[32m   3232\u001B[39m               )\n\u001B[32m   3233\u001B[39m \u001B[38;5;28;01mif\u001B[39;00m \u001B[38;5;28mself\u001B[39m.undobuffer:\n\u001B[32m   3234\u001B[39m     \u001B[38;5;28mself\u001B[39m.undobuffer.push(undo_entry)\n",
      "\u001B[36mFile \u001B[39m\u001B[32m~\\AppData\\Local\\Programs\\Python\\Python312\\Lib\\turtle.py:745\u001B[39m, in \u001B[36mTurtleScreenBase._pointlist\u001B[39m\u001B[34m(self, item)\u001B[39m\n\u001B[32m    737\u001B[39m \u001B[38;5;28;01mdef\u001B[39;00m\u001B[38;5;250m \u001B[39m\u001B[34m_pointlist\u001B[39m(\u001B[38;5;28mself\u001B[39m, item):\n\u001B[32m    738\u001B[39m \u001B[38;5;250m    \u001B[39m\u001B[33;03m\"\"\"returns list of coordinate-pairs of points of item\u001B[39;00m\n\u001B[32m    739\u001B[39m \u001B[33;03m    Example (for insiders):\u001B[39;00m\n\u001B[32m    740\u001B[39m \u001B[33;03m    >>> from turtle import *\u001B[39;00m\n\u001B[32m   (...)\u001B[39m\u001B[32m    743\u001B[39m \u001B[33;03m    (9.9999999999999982, 0.0)]\u001B[39;00m\n\u001B[32m    744\u001B[39m \u001B[33;03m    >>> \"\"\"\u001B[39;00m\n\u001B[32m--> \u001B[39m\u001B[32m745\u001B[39m     cl = \u001B[38;5;28;43mself\u001B[39;49m\u001B[43m.\u001B[49m\u001B[43mcv\u001B[49m\u001B[43m.\u001B[49m\u001B[43mcoords\u001B[49m\u001B[43m(\u001B[49m\u001B[43mitem\u001B[49m\u001B[43m)\u001B[49m\n\u001B[32m    746\u001B[39m     pl = [(cl[i], -cl[i+\u001B[32m1\u001B[39m]) \u001B[38;5;28;01mfor\u001B[39;00m i \u001B[38;5;129;01min\u001B[39;00m \u001B[38;5;28mrange\u001B[39m(\u001B[32m0\u001B[39m, \u001B[38;5;28mlen\u001B[39m(cl), \u001B[32m2\u001B[39m)]\n\u001B[32m    747\u001B[39m     \u001B[38;5;28;01mreturn\u001B[39;00m  pl\n",
      "\u001B[36mFile \u001B[39m\u001B[32m<string>:1\u001B[39m, in \u001B[36mcoords\u001B[39m\u001B[34m(self, *args, **kw)\u001B[39m\n",
      "\u001B[36mFile \u001B[39m\u001B[32m~\\AppData\\Local\\Programs\\Python\\Python312\\Lib\\tkinter\\__init__.py:2823\u001B[39m, in \u001B[36mCanvas.coords\u001B[39m\u001B[34m(self, *args)\u001B[39m\n\u001B[32m   2819\u001B[39m \u001B[38;5;250m\u001B[39m\u001B[33;03m\"\"\"Return a list of coordinates for the item given in ARGS.\"\"\"\u001B[39;00m\n\u001B[32m   2820\u001B[39m args = _flatten(args)\n\u001B[32m   2821\u001B[39m \u001B[38;5;28;01mreturn\u001B[39;00m [\u001B[38;5;28mself\u001B[39m.tk.getdouble(x) \u001B[38;5;28;01mfor\u001B[39;00m x \u001B[38;5;129;01min\u001B[39;00m\n\u001B[32m   2822\u001B[39m                    \u001B[38;5;28mself\u001B[39m.tk.splitlist(\n\u001B[32m-> \u001B[39m\u001B[32m2823\u001B[39m            \u001B[38;5;28;43mself\u001B[39;49m\u001B[43m.\u001B[49m\u001B[43mtk\u001B[49m\u001B[43m.\u001B[49m\u001B[43mcall\u001B[49m\u001B[43m(\u001B[49m\u001B[43m(\u001B[49m\u001B[38;5;28;43mself\u001B[39;49m\u001B[43m.\u001B[49m\u001B[43m_w\u001B[49m\u001B[43m,\u001B[49m\u001B[43m \u001B[49m\u001B[33;43m'\u001B[39;49m\u001B[33;43mcoords\u001B[39;49m\u001B[33;43m'\u001B[39;49m\u001B[43m)\u001B[49m\u001B[43m \u001B[49m\u001B[43m+\u001B[49m\u001B[43m \u001B[49m\u001B[43margs\u001B[49m\u001B[43m)\u001B[49m)]\n",
      "\u001B[31mTclError\u001B[39m: invalid command name \".!canvas\""
     ]
    }
   ],
   "execution_count": 16
  },
  {
   "cell_type": "markdown",
   "metadata": {},
   "source": [
    "## 6. 到达指定坐标\n",
    "\n",
    "除了基本的移动命令外，我们还可以直接指定海龟移动到某个坐标位置。"
   ]
  },
  {
   "cell_type": "code",
   "execution_count": null,
   "metadata": {},
   "outputs": [],
   "source": [
    "# 移动到指定坐标\n",
    "goto(100, 100)  # 移动到坐标(100, 100)"
   ]
  },
  {
   "metadata": {},
   "cell_type": "code",
   "outputs": [],
   "execution_count": null,
   "source": [
    "# 简写\n",
    "setpos(100, 100)\n",
    "setposition(100, 100)"
   ]
  },
  {
   "metadata": {},
   "cell_type": "code",
   "outputs": [],
   "execution_count": null,
   "source": [
    "# 移动到x轴上的指定位置\n",
    "setx(150)"
   ]
  },
  {
   "metadata": {},
   "cell_type": "code",
   "outputs": [],
   "execution_count": null,
   "source": [
    "# 移动到y轴上的指定位置\n",
    "sety(200)"
   ]
  },
  {
   "metadata": {},
   "cell_type": "code",
   "outputs": [],
   "execution_count": null,
   "source": [
    "# 示例：绘制一个简单的三角形\n",
    "from turtle import *\n",
    "\n",
    "goto(100, 0)\n",
    "goto(50, 100)\n",
    "goto(0, 0)"
   ]
  },
  {
   "cell_type": "markdown",
   "metadata": {},
   "source": [
    "## 7. 画点和画圆\n",
    "\n",
    "Turtle库提供了专门的命令用于画点和画圆。"
   ]
  },
  {
   "cell_type": "code",
   "execution_count": null,
   "metadata": {},
   "outputs": [],
   "source": [
    "# 画点\n",
    "dot(20)  # 画一个直径为20的点"
   ]
  },
  {
   "metadata": {},
   "cell_type": "code",
   "outputs": [],
   "execution_count": null,
   "source": [
    "# 画圆\n",
    "circle(50)  # 画一个半径为50的圆"
   ]
  },
  {
   "metadata": {},
   "cell_type": "code",
   "outputs": [],
   "execution_count": null,
   "source": [
    "# 画圆弧\n",
    "circle(50, 180)  # 画一个半径为50，角度为180度的圆弧"
   ]
  },
  {
   "metadata": {
    "ExecuteTime": {
     "end_time": "2025-05-24T05:44:53.219821Z",
     "start_time": "2025-05-24T05:44:36.022633Z"
    }
   },
   "cell_type": "code",
   "source": [
    "# 示例：绘制一个简单的花朵\n",
    "from turtle import *\n",
    "\n",
    "color('red')\n",
    "pensize(2)\n",
    "\n",
    "# 绘制花瓣\n",
    "for i in range(10):\n",
    "    circle(80, 90)\n",
    "    left(90)\n",
    "    circle(80, 90)\n",
    "    left(18)\n",
    "\n",
    "# 绘制花茎\n",
    "color('green')\n",
    "penup()\n",
    "goto(0, -100)\n",
    "pendown()\n",
    "setheading(270)\n",
    "forward(150)\n",
    "\n",
    "# 绘制叶子\n",
    "left(90)\n",
    "circle(30, 180)"
   ],
   "outputs": [],
   "execution_count": 1
  },
  {
   "cell_type": "markdown",
   "metadata": {},
   "source": [
    "## 8. 颜色填充\n",
    "\n",
    "我们可以使用颜色填充命令来填充闭合图形的内部。"
   ]
  },
  {
   "cell_type": "code",
   "execution_count": null,
   "metadata": {},
   "outputs": [],
   "source": [
    "# 开始填充\n",
    "begin_fill()"
   ]
  },
  {
   "metadata": {},
   "cell_type": "code",
   "outputs": [],
   "execution_count": null,
   "source": [
    "# 设置填充颜色\n",
    "fillcolor('yellow')"
   ]
  },
  {
   "metadata": {},
   "cell_type": "code",
   "outputs": [],
   "execution_count": null,
   "source": [
    "# 绘制闭合图形\n",
    "circle(50)"
   ]
  },
  {
   "metadata": {},
   "cell_type": "code",
   "outputs": [],
   "execution_count": null,
   "source": [
    "# 结束填充\n",
    "end_fill()"
   ]
  },
  {
   "metadata": {
    "ExecuteTime": {
     "end_time": "2025-05-24T05:45:41.594524Z",
     "start_time": "2025-05-24T05:45:19.281306Z"
    }
   },
   "cell_type": "code",
   "source": [
    "# 示例：绘制一个填充的太阳\n",
    "from turtle import *\n",
    "\n",
    "color('red', 'yellow')\n",
    "begin_fill()\n",
    "while True:\n",
    "    forward(200)\n",
    "    left(170)\n",
    "    if abs(pos()) < 1:\n",
    "        break\n",
    "end_fill()"
   ],
   "outputs": [],
   "execution_count": 1
  },
  {
   "cell_type": "markdown",
   "metadata": {},
   "source": [
    "## 9. 更多示例\n",
    "\n",
    "下面是一些更复杂的示例，展示了Turtle库的强大功能。"
   ]
  },
  {
   "cell_type": "code",
   "execution_count": null,
   "metadata": {},
   "outputs": [],
   "source": [
    "# 示例1：绘制一个彩色螺旋\n",
    "from turtle import *\n",
    "\n",
    "speed(0)  # 最快速度\n",
    "colors = ['red', 'purple', 'blue', 'green', 'orange', 'yellow']\n",
    "\n",
    "for x in range(360):\n",
    "    pencolor(colors[x % 6])\n",
    "    width(x / 100 + 1)\n",
    "    forward(x)\n",
    "    left(59)"
   ]
  },
  {
   "cell_type": "code",
   "metadata": {
    "ExecuteTime": {
     "end_time": "2025-05-24T05:46:52.913312Z",
     "start_time": "2025-05-24T05:46:50.026903Z"
    }
   },
   "source": [
    "# 示例2：绘制一个分形树\n",
    "from turtle import *\n",
    "\n",
    "speed(0)\n",
    "left(90)\n",
    "penup()\n",
    "backward(100)\n",
    "pendown()\n",
    "\n",
    "def tree(branchLen):\n",
    "    if branchLen > 5:\n",
    "        forward(branchLen)\n",
    "        right(20)\n",
    "        tree(branchLen-15)\n",
    "        left(40)\n",
    "        tree(branchLen-15)\n",
    "        right(20)\n",
    "        backward(branchLen)\n",
    "\n",
    "tree(75)\n",
    "\n",
    "reset()"
   ],
   "outputs": [],
   "execution_count": 1
  },
  {
   "cell_type": "code",
   "execution_count": null,
   "metadata": {},
   "outputs": [],
   "source": [
    "# 示例3：绘制一个谢尔宾斯基三角形\n",
    "from turtle import *\n",
    "\n",
    "speed(0)\n",
    "hideturtle()\n",
    "\n",
    "def sierpinski(degree, points):\n",
    "    colormap = ['blue', 'red', 'green', 'white', 'yellow', 'violet', 'orange']\n",
    "    drawTriangle(points, colormap[degree])\n",
    "    if degree > 0:\n",
    "        sierpinski(degree-1, {\n",
    "            'left': points['left'],\n",
    "            'top': getMid(points['left'], points['top']),\n",
    "            'right': getMid(points['left'], points['right'])\n",
    "        })\n",
    "        sierpinski(degree-1, {\n",
    "            'left': getMid(points['left'], points['top']),\n",
    "            'top': points['top'],\n",
    "            'right': getMid(points['top'], points['right'])\n",
    "        })\n",
    "        sierpinski(degree-1, {\n",
    "            'left': getMid(points['left'], points['right']),\n",
    "            'top': getMid(points['top'], points['right']),\n",
    "            'right': points['right']\n",
    "        })\n",
    "\n",
    "def drawTriangle(points, color):\n",
    "    fillcolor(color)\n",
    "    begin_fill()\n",
    "    up()\n",
    "    goto(points['top'])\n",
    "    down()\n",
    "    goto(points['left'])\n",
    "    goto(points['right'])\n",
    "    goto(points['top'])\n",
    "    end_fill()\n",
    "\n",
    "def getMid(p1, p2):\n",
    "    return ((p1[0] + p2[0]) / 2, (p1[1] + p2[1]) / 2)\n",
    "\n",
    "points = {\n",
    "    'left': (-200, -100),\n",
    "    'top': (0, 200),\n",
    "    'right': (200, -100)\n",
    "}\n",
    "\n",
    "sierpinski(3, points)"
   ]
  },
  {
   "cell_type": "markdown",
   "metadata": {},
   "source": [
    "## 10. 结束绘制\n",
    "\n",
    "当我们完成绘制后，可以使用以下命令结束绘制过程。"
   ]
  },
  {
   "cell_type": "code",
   "execution_count": null,
   "metadata": {},
   "outputs": [],
   "source": [
    "# 完成绘制后保持窗口打开\n",
    "done()\n",
    "\n",
    "# 关闭Turtle窗口\n",
    "bye()\n",
    "\n",
    "# 注意：在Jupyter Notebook中，done()和bye()可能会导致问题，\n",
    "# 因为它们会关闭Turtle窗口，使得后续代码无法继续使用Turtle。\n",
    "# 如果需要在Jupyter Notebook中运行多个Turtle代码单元，\n",
    "# 建议在每个单元的末尾使用reset()而不是done()或bye()。"
   ]
  },
  {
   "cell_type": "markdown",
   "metadata": {},
   "source": [
    "## 总结\n",
    "\n",
    "本教程介绍了Python Turtle库的基本功能和命令，包括导入库、画布设置、画笔设置、基本移动命令、提笔落笔、到达指定坐标、画点画圆以及颜色填充等。\n",
    "\n",
    "Turtle库非常适合初学者学习编程和图形绘制，通过简单的命令就可以创建出复杂而美丽的图形。希望这个教程能帮助你入门Turtle编程！"
   ]
  }
 ],
 "metadata": {
  "kernelspec": {
   "display_name": "Python 3",
   "language": "python",
   "name": "python3"
  },
  "language_info": {
   "codemirror_mode": {
    "name": "ipython",
    "version": 3
   },
   "file_extension": ".py",
   "mimetype": "text/x-python",
   "name": "python",
   "nbconvert_exporter": "python",
   "pygments_lexer": "ipython3",
   "version": "3.9.7"
  }
 },
 "nbformat": 4,
 "nbformat_minor": 2
}
